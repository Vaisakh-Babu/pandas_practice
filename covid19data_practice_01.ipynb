{
  "nbformat": 4,
  "nbformat_minor": 0,
  "metadata": {
    "colab": {
      "name": "covid19data_practice_01.ipynb",
      "provenance": [],
      "collapsed_sections": [],
      "authorship_tag": "ABX9TyOQhSRgKoWczhNRkUskk/BN",
      "include_colab_link": true
    },
    "kernelspec": {
      "name": "python3",
      "display_name": "Python 3"
    }
  },
  "cells": [
    {
      "cell_type": "markdown",
      "metadata": {
        "id": "view-in-github",
        "colab_type": "text"
      },
      "source": [
        "<a href=\"https://colab.research.google.com/github/Vaisakh-Babu/pandas_practice/blob/master/covid19data_practice_01.ipynb\" target=\"_parent\"><img src=\"https://colab.research.google.com/assets/colab-badge.svg\" alt=\"Open In Colab\"/></a>"
      ]
    },
    {
      "cell_type": "markdown",
      "metadata": {
        "id": "l-2qUhnHRfKm",
        "colab_type": "text"
      },
      "source": [
        "##Covid-19 data of United States\n",
        "###Trying to Analyse the covid-19 data which is available at \n",
        "https://github.com/PayneLab/covid19pandas"
      ]
    },
    {
      "cell_type": "code",
      "metadata": {
        "id": "Jha27JyOMIem",
        "colab_type": "code",
        "colab": {
          "base_uri": "https://localhost:8080/",
          "height": 320
        },
        "outputId": "665e9e75-e40f-4847-e845-64684115a9ab"
      },
      "source": [
        "! pip install covid19pandas"
      ],
      "execution_count": 1,
      "outputs": [
        {
          "output_type": "stream",
          "text": [
            "Requirement already satisfied: covid19pandas in /usr/local/lib/python3.6/dist-packages (0.3.0)\n",
            "Requirement already satisfied: numpy>=1.16.3 in /usr/local/lib/python3.6/dist-packages (from covid19pandas) (1.18.4)\n",
            "Requirement already satisfied: pandas>=0.25.1 in /usr/local/lib/python3.6/dist-packages (from covid19pandas) (1.0.3)\n",
            "Requirement already satisfied: matplotlib>=3.1.0 in /usr/local/lib/python3.6/dist-packages (from covid19pandas) (3.2.1)\n",
            "Requirement already satisfied: requests>=2.21.0 in /usr/local/lib/python3.6/dist-packages (from covid19pandas) (2.23.0)\n",
            "Requirement already satisfied: seaborn>=0.10.0 in /usr/local/lib/python3.6/dist-packages (from covid19pandas) (0.10.1)\n",
            "Requirement already satisfied: python-dateutil>=2.6.1 in /usr/local/lib/python3.6/dist-packages (from pandas>=0.25.1->covid19pandas) (2.8.1)\n",
            "Requirement already satisfied: pytz>=2017.2 in /usr/local/lib/python3.6/dist-packages (from pandas>=0.25.1->covid19pandas) (2018.9)\n",
            "Requirement already satisfied: pyparsing!=2.0.4,!=2.1.2,!=2.1.6,>=2.0.1 in /usr/local/lib/python3.6/dist-packages (from matplotlib>=3.1.0->covid19pandas) (2.4.7)\n",
            "Requirement already satisfied: kiwisolver>=1.0.1 in /usr/local/lib/python3.6/dist-packages (from matplotlib>=3.1.0->covid19pandas) (1.2.0)\n",
            "Requirement already satisfied: cycler>=0.10 in /usr/local/lib/python3.6/dist-packages (from matplotlib>=3.1.0->covid19pandas) (0.10.0)\n",
            "Requirement already satisfied: certifi>=2017.4.17 in /usr/local/lib/python3.6/dist-packages (from requests>=2.21.0->covid19pandas) (2020.4.5.1)\n",
            "Requirement already satisfied: chardet<4,>=3.0.2 in /usr/local/lib/python3.6/dist-packages (from requests>=2.21.0->covid19pandas) (3.0.4)\n",
            "Requirement already satisfied: urllib3!=1.25.0,!=1.25.1,<1.26,>=1.21.1 in /usr/local/lib/python3.6/dist-packages (from requests>=2.21.0->covid19pandas) (1.24.3)\n",
            "Requirement already satisfied: idna<3,>=2.5 in /usr/local/lib/python3.6/dist-packages (from requests>=2.21.0->covid19pandas) (2.9)\n",
            "Requirement already satisfied: scipy>=1.0.1 in /usr/local/lib/python3.6/dist-packages (from seaborn>=0.10.0->covid19pandas) (1.4.1)\n",
            "Requirement already satisfied: six>=1.5 in /usr/local/lib/python3.6/dist-packages (from python-dateutil>=2.6.1->pandas>=0.25.1->covid19pandas) (1.12.0)\n"
          ],
          "name": "stdout"
        }
      ]
    },
    {
      "cell_type": "code",
      "metadata": {
        "id": "vs--7ic1O9eD",
        "colab_type": "code",
        "colab": {
          "base_uri": "https://localhost:8080/",
          "height": 70
        },
        "outputId": "fa1ea851-3a03-4f72-c1f3-44b39ba3c440"
      },
      "source": [
        "import covid19pandas as cvd"
      ],
      "execution_count": 2,
      "outputs": [
        {
          "output_type": "stream",
          "text": [
            "/usr/local/lib/python3.6/dist-packages/statsmodels/tools/_testing.py:19: FutureWarning: pandas.util.testing is deprecated. Use the functions in the public API at pandas.testing instead.\n",
            "  import pandas.util.testing as tm\n"
          ],
          "name": "stderr"
        }
      ]
    },
    {
      "cell_type": "code",
      "metadata": {
        "id": "Zr03rgpEPOYW",
        "colab_type": "code",
        "colab": {
          "base_uri": "https://localhost:8080/",
          "height": 33
        },
        "outputId": "ed1175a7-69ed-4133-ab63-2b5e60b7d046"
      },
      "source": [
        "df = cvd.get_data_nyt()"
      ],
      "execution_count": 3,
      "outputs": [
        {
          "output_type": "stream",
          "text": [
            "These data were obtained from The New York Times (https://github.com/nytimes/covid-19-data).\n"
          ],
          "name": "stdout"
        }
      ]
    },
    {
      "cell_type": "code",
      "metadata": {
        "id": "nQ176zpIPUsR",
        "colab_type": "code",
        "colab": {
          "base_uri": "https://localhost:8080/",
          "height": 406
        },
        "outputId": "a6fc29af-a950-4b4d-b724-5d08ba60aee3"
      },
      "source": [
        "df"
      ],
      "execution_count": 4,
      "outputs": [
        {
          "output_type": "execute_result",
          "data": {
            "text/html": [
              "<div>\n",
              "<style scoped>\n",
              "    .dataframe tbody tr th:only-of-type {\n",
              "        vertical-align: middle;\n",
              "    }\n",
              "\n",
              "    .dataframe tbody tr th {\n",
              "        vertical-align: top;\n",
              "    }\n",
              "\n",
              "    .dataframe thead th {\n",
              "        text-align: right;\n",
              "    }\n",
              "</style>\n",
              "<table border=\"1\" class=\"dataframe\">\n",
              "  <thead>\n",
              "    <tr style=\"text-align: right;\">\n",
              "      <th></th>\n",
              "      <th>date</th>\n",
              "      <th>state</th>\n",
              "      <th>fips</th>\n",
              "      <th>cases</th>\n",
              "      <th>deaths</th>\n",
              "    </tr>\n",
              "  </thead>\n",
              "  <tbody>\n",
              "    <tr>\n",
              "      <th>0</th>\n",
              "      <td>2020-01-21</td>\n",
              "      <td>Washington</td>\n",
              "      <td>53</td>\n",
              "      <td>1</td>\n",
              "      <td>0</td>\n",
              "    </tr>\n",
              "    <tr>\n",
              "      <th>1</th>\n",
              "      <td>2020-01-22</td>\n",
              "      <td>Washington</td>\n",
              "      <td>53</td>\n",
              "      <td>1</td>\n",
              "      <td>0</td>\n",
              "    </tr>\n",
              "    <tr>\n",
              "      <th>2</th>\n",
              "      <td>2020-01-23</td>\n",
              "      <td>Washington</td>\n",
              "      <td>53</td>\n",
              "      <td>1</td>\n",
              "      <td>0</td>\n",
              "    </tr>\n",
              "    <tr>\n",
              "      <th>3</th>\n",
              "      <td>2020-01-24</td>\n",
              "      <td>Illinois</td>\n",
              "      <td>17</td>\n",
              "      <td>1</td>\n",
              "      <td>0</td>\n",
              "    </tr>\n",
              "    <tr>\n",
              "      <th>4</th>\n",
              "      <td>2020-01-24</td>\n",
              "      <td>Washington</td>\n",
              "      <td>53</td>\n",
              "      <td>1</td>\n",
              "      <td>0</td>\n",
              "    </tr>\n",
              "    <tr>\n",
              "      <th>...</th>\n",
              "      <td>...</td>\n",
              "      <td>...</td>\n",
              "      <td>...</td>\n",
              "      <td>...</td>\n",
              "      <td>...</td>\n",
              "    </tr>\n",
              "    <tr>\n",
              "      <th>4629</th>\n",
              "      <td>2020-05-25</td>\n",
              "      <td>Virginia</td>\n",
              "      <td>51</td>\n",
              "      <td>37727</td>\n",
              "      <td>1208</td>\n",
              "    </tr>\n",
              "    <tr>\n",
              "      <th>4630</th>\n",
              "      <td>2020-05-25</td>\n",
              "      <td>Washington</td>\n",
              "      <td>53</td>\n",
              "      <td>21005</td>\n",
              "      <td>1076</td>\n",
              "    </tr>\n",
              "    <tr>\n",
              "      <th>4631</th>\n",
              "      <td>2020-05-25</td>\n",
              "      <td>West Virginia</td>\n",
              "      <td>54</td>\n",
              "      <td>1782</td>\n",
              "      <td>73</td>\n",
              "    </tr>\n",
              "    <tr>\n",
              "      <th>4632</th>\n",
              "      <td>2020-05-25</td>\n",
              "      <td>Wisconsin</td>\n",
              "      <td>55</td>\n",
              "      <td>15646</td>\n",
              "      <td>514</td>\n",
              "    </tr>\n",
              "    <tr>\n",
              "      <th>4633</th>\n",
              "      <td>2020-05-25</td>\n",
              "      <td>Wyoming</td>\n",
              "      <td>56</td>\n",
              "      <td>843</td>\n",
              "      <td>12</td>\n",
              "    </tr>\n",
              "  </tbody>\n",
              "</table>\n",
              "<p>4634 rows × 5 columns</p>\n",
              "</div>"
            ],
            "text/plain": [
              "           date          state  fips  cases  deaths\n",
              "0    2020-01-21     Washington    53      1       0\n",
              "1    2020-01-22     Washington    53      1       0\n",
              "2    2020-01-23     Washington    53      1       0\n",
              "3    2020-01-24       Illinois    17      1       0\n",
              "4    2020-01-24     Washington    53      1       0\n",
              "...         ...            ...   ...    ...     ...\n",
              "4629 2020-05-25       Virginia    51  37727    1208\n",
              "4630 2020-05-25     Washington    53  21005    1076\n",
              "4631 2020-05-25  West Virginia    54   1782      73\n",
              "4632 2020-05-25      Wisconsin    55  15646     514\n",
              "4633 2020-05-25        Wyoming    56    843      12\n",
              "\n",
              "[4634 rows x 5 columns]"
            ]
          },
          "metadata": {
            "tags": []
          },
          "execution_count": 4
        }
      ]
    },
    {
      "cell_type": "code",
      "metadata": {
        "id": "WOTWQ34lPwnX",
        "colab_type": "code",
        "colab": {
          "base_uri": "https://localhost:8080/",
          "height": 216
        },
        "outputId": "68a81039-082c-4b36-f69f-fa60f1859fc4"
      },
      "source": [
        "df.info()"
      ],
      "execution_count": 5,
      "outputs": [
        {
          "output_type": "stream",
          "text": [
            "<class 'pandas.core.frame.DataFrame'>\n",
            "RangeIndex: 4634 entries, 0 to 4633\n",
            "Data columns (total 5 columns):\n",
            " #   Column  Non-Null Count  Dtype         \n",
            "---  ------  --------------  -----         \n",
            " 0   date    4634 non-null   datetime64[ns]\n",
            " 1   state   4634 non-null   object        \n",
            " 2   fips    4634 non-null   int64         \n",
            " 3   cases   4634 non-null   int64         \n",
            " 4   deaths  4634 non-null   int64         \n",
            "dtypes: datetime64[ns](1), int64(3), object(1)\n",
            "memory usage: 181.1+ KB\n"
          ],
          "name": "stdout"
        }
      ]
    },
    {
      "cell_type": "markdown",
      "metadata": {
        "id": "HiCfLnN4mwuT",
        "colab_type": "text"
      },
      "source": [
        "####The given data is cumulative\n",
        "####We will try to create columns for daily data"
      ]
    },
    {
      "cell_type": "code",
      "metadata": {
        "id": "t0eRnZbxjycm",
        "colab_type": "code",
        "colab": {}
      },
      "source": [
        "df = cvd.calc_daily_change(df, 'cases','state')\n",
        "df['daily_deaths'] = cvd.calc_daily_change(df,'deaths',\"state\")[\"daily_deaths\"]"
      ],
      "execution_count": 0,
      "outputs": []
    },
    {
      "cell_type": "code",
      "metadata": {
        "id": "QZ-BouQpp7Xs",
        "colab_type": "code",
        "colab": {
          "base_uri": "https://localhost:8080/",
          "height": 406
        },
        "outputId": "4aa61fca-7fb2-4156-c7d1-b92f1ad36659"
      },
      "source": [
        "df"
      ],
      "execution_count": 7,
      "outputs": [
        {
          "output_type": "execute_result",
          "data": {
            "text/html": [
              "<div>\n",
              "<style scoped>\n",
              "    .dataframe tbody tr th:only-of-type {\n",
              "        vertical-align: middle;\n",
              "    }\n",
              "\n",
              "    .dataframe tbody tr th {\n",
              "        vertical-align: top;\n",
              "    }\n",
              "\n",
              "    .dataframe thead th {\n",
              "        text-align: right;\n",
              "    }\n",
              "</style>\n",
              "<table border=\"1\" class=\"dataframe\">\n",
              "  <thead>\n",
              "    <tr style=\"text-align: right;\">\n",
              "      <th></th>\n",
              "      <th>date</th>\n",
              "      <th>state</th>\n",
              "      <th>fips</th>\n",
              "      <th>cases</th>\n",
              "      <th>deaths</th>\n",
              "      <th>daily_cases</th>\n",
              "      <th>daily_deaths</th>\n",
              "    </tr>\n",
              "  </thead>\n",
              "  <tbody>\n",
              "    <tr>\n",
              "      <th>0</th>\n",
              "      <td>2020-01-21</td>\n",
              "      <td>Washington</td>\n",
              "      <td>53</td>\n",
              "      <td>1</td>\n",
              "      <td>0</td>\n",
              "      <td>1</td>\n",
              "      <td>0</td>\n",
              "    </tr>\n",
              "    <tr>\n",
              "      <th>1</th>\n",
              "      <td>2020-01-22</td>\n",
              "      <td>Washington</td>\n",
              "      <td>53</td>\n",
              "      <td>1</td>\n",
              "      <td>0</td>\n",
              "      <td>0</td>\n",
              "      <td>0</td>\n",
              "    </tr>\n",
              "    <tr>\n",
              "      <th>2</th>\n",
              "      <td>2020-01-23</td>\n",
              "      <td>Washington</td>\n",
              "      <td>53</td>\n",
              "      <td>1</td>\n",
              "      <td>0</td>\n",
              "      <td>0</td>\n",
              "      <td>0</td>\n",
              "    </tr>\n",
              "    <tr>\n",
              "      <th>3</th>\n",
              "      <td>2020-01-24</td>\n",
              "      <td>Illinois</td>\n",
              "      <td>17</td>\n",
              "      <td>1</td>\n",
              "      <td>0</td>\n",
              "      <td>1</td>\n",
              "      <td>0</td>\n",
              "    </tr>\n",
              "    <tr>\n",
              "      <th>4</th>\n",
              "      <td>2020-01-24</td>\n",
              "      <td>Washington</td>\n",
              "      <td>53</td>\n",
              "      <td>1</td>\n",
              "      <td>0</td>\n",
              "      <td>0</td>\n",
              "      <td>0</td>\n",
              "    </tr>\n",
              "    <tr>\n",
              "      <th>...</th>\n",
              "      <td>...</td>\n",
              "      <td>...</td>\n",
              "      <td>...</td>\n",
              "      <td>...</td>\n",
              "      <td>...</td>\n",
              "      <td>...</td>\n",
              "      <td>...</td>\n",
              "    </tr>\n",
              "    <tr>\n",
              "      <th>4629</th>\n",
              "      <td>2020-05-25</td>\n",
              "      <td>Virginia</td>\n",
              "      <td>51</td>\n",
              "      <td>37727</td>\n",
              "      <td>1208</td>\n",
              "      <td>1483</td>\n",
              "      <td>37</td>\n",
              "    </tr>\n",
              "    <tr>\n",
              "      <th>4630</th>\n",
              "      <td>2020-05-25</td>\n",
              "      <td>Washington</td>\n",
              "      <td>53</td>\n",
              "      <td>21005</td>\n",
              "      <td>1076</td>\n",
              "      <td>273</td>\n",
              "      <td>7</td>\n",
              "    </tr>\n",
              "    <tr>\n",
              "      <th>4631</th>\n",
              "      <td>2020-05-25</td>\n",
              "      <td>West Virginia</td>\n",
              "      <td>54</td>\n",
              "      <td>1782</td>\n",
              "      <td>73</td>\n",
              "      <td>11</td>\n",
              "      <td>1</td>\n",
              "    </tr>\n",
              "    <tr>\n",
              "      <th>4632</th>\n",
              "      <td>2020-05-25</td>\n",
              "      <td>Wisconsin</td>\n",
              "      <td>55</td>\n",
              "      <td>15646</td>\n",
              "      <td>514</td>\n",
              "      <td>284</td>\n",
              "      <td>4</td>\n",
              "    </tr>\n",
              "    <tr>\n",
              "      <th>4633</th>\n",
              "      <td>2020-05-25</td>\n",
              "      <td>Wyoming</td>\n",
              "      <td>56</td>\n",
              "      <td>843</td>\n",
              "      <td>12</td>\n",
              "      <td>30</td>\n",
              "      <td>0</td>\n",
              "    </tr>\n",
              "  </tbody>\n",
              "</table>\n",
              "<p>4634 rows × 7 columns</p>\n",
              "</div>"
            ],
            "text/plain": [
              "           date          state  fips  cases  deaths  daily_cases  daily_deaths\n",
              "0    2020-01-21     Washington    53      1       0            1             0\n",
              "1    2020-01-22     Washington    53      1       0            0             0\n",
              "2    2020-01-23     Washington    53      1       0            0             0\n",
              "3    2020-01-24       Illinois    17      1       0            1             0\n",
              "4    2020-01-24     Washington    53      1       0            0             0\n",
              "...         ...            ...   ...    ...     ...          ...           ...\n",
              "4629 2020-05-25       Virginia    51  37727    1208         1483            37\n",
              "4630 2020-05-25     Washington    53  21005    1076          273             7\n",
              "4631 2020-05-25  West Virginia    54   1782      73           11             1\n",
              "4632 2020-05-25      Wisconsin    55  15646     514          284             4\n",
              "4633 2020-05-25        Wyoming    56    843      12           30             0\n",
              "\n",
              "[4634 rows x 7 columns]"
            ]
          },
          "metadata": {
            "tags": []
          },
          "execution_count": 7
        }
      ]
    },
    {
      "cell_type": "code",
      "metadata": {
        "id": "qXm-OzipyhIt",
        "colab_type": "code",
        "colab": {}
      },
      "source": [
        "ny = df.query(\"state == 'New York'\")"
      ],
      "execution_count": 0,
      "outputs": []
    },
    {
      "cell_type": "code",
      "metadata": {
        "id": "uBw9pIWL1FD0",
        "colab_type": "code",
        "colab": {
          "base_uri": "https://localhost:8080/",
          "height": 281
        },
        "outputId": "c7b98efd-fe4d-4fec-f7c3-a7b33109e8b4"
      },
      "source": [
        "ny.cases.plot(kind = 'line')"
      ],
      "execution_count": 9,
      "outputs": [
        {
          "output_type": "execute_result",
          "data": {
            "text/plain": [
              "<matplotlib.axes._subplots.AxesSubplot at 0x7f006cd637f0>"
            ]
          },
          "metadata": {
            "tags": []
          },
          "execution_count": 9
        },
        {
          "output_type": "display_data",
          "data": {
            "image/png": "[encoded data removed]",
            "text/plain": [
              "<Figure size 432x288 with 1 Axes>"
            ]
          },
          "metadata": {
            "tags": [],
            "needs_background": "light"
          }
        }
      ]
    },
    {
      "cell_type": "code",
      "metadata": {
        "id": "VdnG1nCF2oxw",
        "colab_type": "code",
        "colab": {
          "base_uri": "https://localhost:8080/",
          "height": 331
        },
        "outputId": "f82147d4-c5df-4050-e0b6-0068bb2b541b"
      },
      "source": [
        "ny.set_index('date').cases.plot(kind = 'line')"
      ],
      "execution_count": 10,
      "outputs": [
        {
          "output_type": "execute_result",
          "data": {
            "text/plain": [
              "<matplotlib.axes._subplots.AxesSubplot at 0x7f006ccb6630>"
            ]
          },
          "metadata": {
            "tags": []
          },
          "execution_count": 10
        },
        {
          "output_type": "display_data",
          "data": {
            "image/png": "[encoded data removed]",
            "text/plain": [
              "<Figure size 432x288 with 1 Axes>"
            ]
          },
          "metadata": {
            "tags": [],
            "needs_background": "light"
          }
        }
      ]
    },
    {
      "cell_type": "code",
      "metadata": {
        "id": "41-Hr2x43PWo",
        "colab_type": "code",
        "colab": {
          "base_uri": "https://localhost:8080/",
          "height": 331
        },
        "outputId": "b8172132-7c03-4211-82b6-0b5f77ba82b1"
      },
      "source": [
        "ny.set_index('date').daily_cases.plot(kind = 'line')"
      ],
      "execution_count": 11,
      "outputs": [
        {
          "output_type": "execute_result",
          "data": {
            "text/plain": [
              "<matplotlib.axes._subplots.AxesSubplot at 0x7f006c7329b0>"
            ]
          },
          "metadata": {
            "tags": []
          },
          "execution_count": 11
        },
        {
          "output_type": "display_data",
          "data": {
            "image/png": "[encoded data removed]",
            "text/plain": [
              "<Figure size 432x288 with 1 Axes>"
            ]
          },
          "metadata": {
            "tags": [],
            "needs_background": "light"
          }
        }
      ]
    },
    {
      "cell_type": "code",
      "metadata": {
        "id": "5PmdAhAsP_aD",
        "colab_type": "code",
        "colab": {
          "base_uri": "https://localhost:8080/",
          "height": 966
        },
        "outputId": "8bcbbb24-ff91-46fe-918a-a469ff014bba"
      },
      "source": [
        "df.groupby('state')['cases'].max()"
      ],
      "execution_count": 12,
      "outputs": [
        {
          "output_type": "execute_result",
          "data": {
            "text/plain": [
              "state\n",
              "Alabama                      14986\n",
              "Alaska                         412\n",
              "Arizona                      16561\n",
              "Arkansas                      6029\n",
              "California                   97017\n",
              "Colorado                     24256\n",
              "Connecticut                  40873\n",
              "Delaware                      8965\n",
              "District of Columbia          8225\n",
              "Florida                      51738\n",
              "Georgia                      41414\n",
              "Guam                          1135\n",
              "Hawaii                         637\n",
              "Idaho                         2664\n",
              "Illinois                    112248\n",
              "Indiana                      32489\n",
              "Iowa                         17628\n",
              "Kansas                        9272\n",
              "Kentucky                      8899\n",
              "Louisiana                    37916\n",
              "Maine                         2074\n",
              "Maryland                     47754\n",
              "Massachusetts                93271\n",
              "Michigan                     54816\n",
              "Minnesota                    21324\n",
              "Mississippi                  13458\n",
              "Missouri                     12296\n",
              "Montana                        479\n",
              "Nebraska                     12355\n",
              "Nevada                        7959\n",
              "New Hampshire                 4197\n",
              "New Jersey                  155092\n",
              "New Mexico                    7026\n",
              "New York                    367625\n",
              "North Carolina               23997\n",
              "North Dakota                  2457\n",
              "Northern Mariana Islands        22\n",
              "Ohio                         32477\n",
              "Oklahoma                      6090\n",
              "Oregon                        3949\n",
              "Pennsylvania                 72356\n",
              "Puerto Rico                   3260\n",
              "Rhode Island                 14065\n",
              "South Carolina               10178\n",
              "South Dakota                  4586\n",
              "Tennessee                    20533\n",
              "Texas                        56490\n",
              "Utah                          8521\n",
              "Vermont                        962\n",
              "Virgin Islands                  69\n",
              "Virginia                     37727\n",
              "Washington                   21005\n",
              "West Virginia                 1782\n",
              "Wisconsin                    15646\n",
              "Wyoming                        843\n",
              "Name: cases, dtype: int64"
            ]
          },
          "metadata": {
            "tags": []
          },
          "execution_count": 12
        }
      ]
    },
    {
      "cell_type": "code",
      "metadata": {
        "id": "nowKbtqiRWj-",
        "colab_type": "code",
        "colab": {
          "base_uri": "https://localhost:8080/",
          "height": 966
        },
        "outputId": "d7b9d117-5973-4630-f8ca-a14a07f09509"
      },
      "source": [
        "df.groupby('state')['cases'].max().sort_values()"
      ],
      "execution_count": 13,
      "outputs": [
        {
          "output_type": "execute_result",
          "data": {
            "text/plain": [
              "state\n",
              "Northern Mariana Islands        22\n",
              "Virgin Islands                  69\n",
              "Alaska                         412\n",
              "Montana                        479\n",
              "Hawaii                         637\n",
              "Wyoming                        843\n",
              "Vermont                        962\n",
              "Guam                          1135\n",
              "West Virginia                 1782\n",
              "Maine                         2074\n",
              "North Dakota                  2457\n",
              "Idaho                         2664\n",
              "Puerto Rico                   3260\n",
              "Oregon                        3949\n",
              "New Hampshire                 4197\n",
              "South Dakota                  4586\n",
              "Arkansas                      6029\n",
              "Oklahoma                      6090\n",
              "New Mexico                    7026\n",
              "Nevada                        7959\n",
              "District of Columbia          8225\n",
              "Utah                          8521\n",
              "Kentucky                      8899\n",
              "Delaware                      8965\n",
              "Kansas                        9272\n",
              "South Carolina               10178\n",
              "Missouri                     12296\n",
              "Nebraska                     12355\n",
              "Mississippi                  13458\n",
              "Rhode Island                 14065\n",
              "Alabama                      14986\n",
              "Wisconsin                    15646\n",
              "Arizona                      16561\n",
              "Iowa                         17628\n",
              "Tennessee                    20533\n",
              "Washington                   21005\n",
              "Minnesota                    21324\n",
              "North Carolina               23997\n",
              "Colorado                     24256\n",
              "Ohio                         32477\n",
              "Indiana                      32489\n",
              "Virginia                     37727\n",
              "Louisiana                    37916\n",
              "Connecticut                  40873\n",
              "Georgia                      41414\n",
              "Maryland                     47754\n",
              "Florida                      51738\n",
              "Michigan                     54816\n",
              "Texas                        56490\n",
              "Pennsylvania                 72356\n",
              "Massachusetts                93271\n",
              "California                   97017\n",
              "Illinois                    112248\n",
              "New Jersey                  155092\n",
              "New York                    367625\n",
              "Name: cases, dtype: int64"
            ]
          },
          "metadata": {
            "tags": []
          },
          "execution_count": 13
        }
      ]
    },
    {
      "cell_type": "code",
      "metadata": {
        "id": "NsvQ1kMDRlZJ",
        "colab_type": "code",
        "colab": {
          "base_uri": "https://localhost:8080/",
          "height": 86
        },
        "outputId": "5c3b8f50-53de-4135-ef4c-ca7cacbd7cc3"
      },
      "source": [
        "! pip install plotly"
      ],
      "execution_count": 14,
      "outputs": [
        {
          "output_type": "stream",
          "text": [
            "Requirement already satisfied: plotly in /usr/local/lib/python3.6/dist-packages (4.4.1)\n",
            "Requirement already satisfied: retrying>=1.3.3 in /usr/local/lib/python3.6/dist-packages (from plotly) (1.3.3)\n",
            "Requirement already satisfied: six in /usr/local/lib/python3.6/dist-packages (from plotly) (1.12.0)\n"
          ],
          "name": "stdout"
        }
      ]
    },
    {
      "cell_type": "code",
      "metadata": {
        "id": "YV6s1hgySS8h",
        "colab_type": "code",
        "colab": {
          "base_uri": "https://localhost:8080/",
          "height": 966
        },
        "outputId": "47622c77-12d2-495f-e450-f113163a9be6"
      },
      "source": [
        "df.groupby('fips')['cases'].max().sort_values()"
      ],
      "execution_count": 15,
      "outputs": [
        {
          "output_type": "execute_result",
          "data": {
            "text/plain": [
              "fips\n",
              "69        22\n",
              "78        69\n",
              "2        412\n",
              "30       479\n",
              "15       637\n",
              "56       843\n",
              "50       962\n",
              "66      1135\n",
              "54      1782\n",
              "23      2074\n",
              "38      2457\n",
              "16      2664\n",
              "72      3260\n",
              "41      3949\n",
              "33      4197\n",
              "46      4586\n",
              "5       6029\n",
              "40      6090\n",
              "35      7026\n",
              "32      7959\n",
              "11      8225\n",
              "49      8521\n",
              "21      8899\n",
              "10      8965\n",
              "20      9272\n",
              "45     10178\n",
              "29     12296\n",
              "31     12355\n",
              "28     13458\n",
              "44     14065\n",
              "1      14986\n",
              "55     15646\n",
              "4      16561\n",
              "19     17628\n",
              "47     20533\n",
              "53     21005\n",
              "27     21324\n",
              "37     23997\n",
              "8      24256\n",
              "39     32477\n",
              "18     32489\n",
              "51     37727\n",
              "22     37916\n",
              "9      40873\n",
              "13     41414\n",
              "24     47754\n",
              "12     51738\n",
              "26     54816\n",
              "48     56490\n",
              "42     72356\n",
              "25     93271\n",
              "6      97017\n",
              "17    112248\n",
              "34    155092\n",
              "36    367625\n",
              "Name: cases, dtype: int64"
            ]
          },
          "metadata": {
            "tags": []
          },
          "execution_count": 15
        }
      ]
    },
    {
      "cell_type": "code",
      "metadata": {
        "id": "FB5Twzs9TRlD",
        "colab_type": "code",
        "colab": {
          "base_uri": "https://localhost:8080/",
          "height": 1000
        },
        "outputId": "1afc9a17-e4bc-485d-e4e9-542e2363d02a"
      },
      "source": [
        "   df.groupby('fips')['cases'].max().sort_values().to_frame()"
      ],
      "execution_count": 16,
      "outputs": [
        {
          "output_type": "execute_result",
          "data": {
            "text/html": [
              "<div>\n",
              "<style scoped>\n",
              "    .dataframe tbody tr th:only-of-type {\n",
              "        vertical-align: middle;\n",
              "    }\n",
              "\n",
              "    .dataframe tbody tr th {\n",
              "        vertical-align: top;\n",
              "    }\n",
              "\n",
              "    .dataframe thead th {\n",
              "        text-align: right;\n",
              "    }\n",
              "</style>\n",
              "<table border=\"1\" class=\"dataframe\">\n",
              "  <thead>\n",
              "    <tr style=\"text-align: right;\">\n",
              "      <th></th>\n",
              "      <th>cases</th>\n",
              "    </tr>\n",
              "    <tr>\n",
              "      <th>fips</th>\n",
              "      <th></th>\n",
              "    </tr>\n",
              "  </thead>\n",
              "  <tbody>\n",
              "    <tr>\n",
              "      <th>69</th>\n",
              "      <td>22</td>\n",
              "    </tr>\n",
              "    <tr>\n",
              "      <th>78</th>\n",
              "      <td>69</td>\n",
              "    </tr>\n",
              "    <tr>\n",
              "      <th>2</th>\n",
              "      <td>412</td>\n",
              "    </tr>\n",
              "    <tr>\n",
              "      <th>30</th>\n",
              "      <td>479</td>\n",
              "    </tr>\n",
              "    <tr>\n",
              "      <th>15</th>\n",
              "      <td>637</td>\n",
              "    </tr>\n",
              "    <tr>\n",
              "      <th>56</th>\n",
              "      <td>843</td>\n",
              "    </tr>\n",
              "    <tr>\n",
              "      <th>50</th>\n",
              "      <td>962</td>\n",
              "    </tr>\n",
              "    <tr>\n",
              "      <th>66</th>\n",
              "      <td>1135</td>\n",
              "    </tr>\n",
              "    <tr>\n",
              "      <th>54</th>\n",
              "      <td>1782</td>\n",
              "    </tr>\n",
              "    <tr>\n",
              "      <th>23</th>\n",
              "      <td>2074</td>\n",
              "    </tr>\n",
              "    <tr>\n",
              "      <th>38</th>\n",
              "      <td>2457</td>\n",
              "    </tr>\n",
              "    <tr>\n",
              "      <th>16</th>\n",
              "      <td>2664</td>\n",
              "    </tr>\n",
              "    <tr>\n",
              "      <th>72</th>\n",
              "      <td>3260</td>\n",
              "    </tr>\n",
              "    <tr>\n",
              "      <th>41</th>\n",
              "      <td>3949</td>\n",
              "    </tr>\n",
              "    <tr>\n",
              "      <th>33</th>\n",
              "      <td>4197</td>\n",
              "    </tr>\n",
              "    <tr>\n",
              "      <th>46</th>\n",
              "      <td>4586</td>\n",
              "    </tr>\n",
              "    <tr>\n",
              "      <th>5</th>\n",
              "      <td>6029</td>\n",
              "    </tr>\n",
              "    <tr>\n",
              "      <th>40</th>\n",
              "      <td>6090</td>\n",
              "    </tr>\n",
              "    <tr>\n",
              "      <th>35</th>\n",
              "      <td>7026</td>\n",
              "    </tr>\n",
              "    <tr>\n",
              "      <th>32</th>\n",
              "      <td>7959</td>\n",
              "    </tr>\n",
              "    <tr>\n",
              "      <th>11</th>\n",
              "      <td>8225</td>\n",
              "    </tr>\n",
              "    <tr>\n",
              "      <th>49</th>\n",
              "      <td>8521</td>\n",
              "    </tr>\n",
              "    <tr>\n",
              "      <th>21</th>\n",
              "      <td>8899</td>\n",
              "    </tr>\n",
              "    <tr>\n",
              "      <th>10</th>\n",
              "      <td>8965</td>\n",
              "    </tr>\n",
              "    <tr>\n",
              "      <th>20</th>\n",
              "      <td>9272</td>\n",
              "    </tr>\n",
              "    <tr>\n",
              "      <th>45</th>\n",
              "      <td>10178</td>\n",
              "    </tr>\n",
              "    <tr>\n",
              "      <th>29</th>\n",
              "      <td>12296</td>\n",
              "    </tr>\n",
              "    <tr>\n",
              "      <th>31</th>\n",
              "      <td>12355</td>\n",
              "    </tr>\n",
              "    <tr>\n",
              "      <th>28</th>\n",
              "      <td>13458</td>\n",
              "    </tr>\n",
              "    <tr>\n",
              "      <th>44</th>\n",
              "      <td>14065</td>\n",
              "    </tr>\n",
              "    <tr>\n",
              "      <th>1</th>\n",
              "      <td>14986</td>\n",
              "    </tr>\n",
              "    <tr>\n",
              "      <th>55</th>\n",
              "      <td>15646</td>\n",
              "    </tr>\n",
              "    <tr>\n",
              "      <th>4</th>\n",
              "      <td>16561</td>\n",
              "    </tr>\n",
              "    <tr>\n",
              "      <th>19</th>\n",
              "      <td>17628</td>\n",
              "    </tr>\n",
              "    <tr>\n",
              "      <th>47</th>\n",
              "      <td>20533</td>\n",
              "    </tr>\n",
              "    <tr>\n",
              "      <th>53</th>\n",
              "      <td>21005</td>\n",
              "    </tr>\n",
              "    <tr>\n",
              "      <th>27</th>\n",
              "      <td>21324</td>\n",
              "    </tr>\n",
              "    <tr>\n",
              "      <th>37</th>\n",
              "      <td>23997</td>\n",
              "    </tr>\n",
              "    <tr>\n",
              "      <th>8</th>\n",
              "      <td>24256</td>\n",
              "    </tr>\n",
              "    <tr>\n",
              "      <th>39</th>\n",
              "      <td>32477</td>\n",
              "    </tr>\n",
              "    <tr>\n",
              "      <th>18</th>\n",
              "      <td>32489</td>\n",
              "    </tr>\n",
              "    <tr>\n",
              "      <th>51</th>\n",
              "      <td>37727</td>\n",
              "    </tr>\n",
              "    <tr>\n",
              "      <th>22</th>\n",
              "      <td>37916</td>\n",
              "    </tr>\n",
              "    <tr>\n",
              "      <th>9</th>\n",
              "      <td>40873</td>\n",
              "    </tr>\n",
              "    <tr>\n",
              "      <th>13</th>\n",
              "      <td>41414</td>\n",
              "    </tr>\n",
              "    <tr>\n",
              "      <th>24</th>\n",
              "      <td>47754</td>\n",
              "    </tr>\n",
              "    <tr>\n",
              "      <th>12</th>\n",
              "      <td>51738</td>\n",
              "    </tr>\n",
              "    <tr>\n",
              "      <th>26</th>\n",
              "      <td>54816</td>\n",
              "    </tr>\n",
              "    <tr>\n",
              "      <th>48</th>\n",
              "      <td>56490</td>\n",
              "    </tr>\n",
              "    <tr>\n",
              "      <th>42</th>\n",
              "      <td>72356</td>\n",
              "    </tr>\n",
              "    <tr>\n",
              "      <th>25</th>\n",
              "      <td>93271</td>\n",
              "    </tr>\n",
              "    <tr>\n",
              "      <th>6</th>\n",
              "      <td>97017</td>\n",
              "    </tr>\n",
              "    <tr>\n",
              "      <th>17</th>\n",
              "      <td>112248</td>\n",
              "    </tr>\n",
              "    <tr>\n",
              "      <th>34</th>\n",
              "      <td>155092</td>\n",
              "    </tr>\n",
              "    <tr>\n",
              "      <th>36</th>\n",
              "      <td>367625</td>\n",
              "    </tr>\n",
              "  </tbody>\n",
              "</table>\n",
              "</div>"
            ],
            "text/plain": [
              "       cases\n",
              "fips        \n",
              "69        22\n",
              "78        69\n",
              "2        412\n",
              "30       479\n",
              "15       637\n",
              "56       843\n",
              "50       962\n",
              "66      1135\n",
              "54      1782\n",
              "23      2074\n",
              "38      2457\n",
              "16      2664\n",
              "72      3260\n",
              "41      3949\n",
              "33      4197\n",
              "46      4586\n",
              "5       6029\n",
              "40      6090\n",
              "35      7026\n",
              "32      7959\n",
              "11      8225\n",
              "49      8521\n",
              "21      8899\n",
              "10      8965\n",
              "20      9272\n",
              "45     10178\n",
              "29     12296\n",
              "31     12355\n",
              "28     13458\n",
              "44     14065\n",
              "1      14986\n",
              "55     15646\n",
              "4      16561\n",
              "19     17628\n",
              "47     20533\n",
              "53     21005\n",
              "27     21324\n",
              "37     23997\n",
              "8      24256\n",
              "39     32477\n",
              "18     32489\n",
              "51     37727\n",
              "22     37916\n",
              "9      40873\n",
              "13     41414\n",
              "24     47754\n",
              "12     51738\n",
              "26     54816\n",
              "48     56490\n",
              "42     72356\n",
              "25     93271\n",
              "6      97017\n",
              "17    112248\n",
              "34    155092\n",
              "36    367625"
            ]
          },
          "metadata": {
            "tags": []
          },
          "execution_count": 16
        }
      ]
    },
    {
      "cell_type": "code",
      "metadata": {
        "id": "Kl0PSnfATqbL",
        "colab_type": "code",
        "colab": {}
      },
      "source": [
        "state_dataset = df.groupby('state')['cases'].max().sort_values().to_frame().reset_index()"
      ],
      "execution_count": 0,
      "outputs": []
    },
    {
      "cell_type": "code",
      "metadata": {
        "id": "RjBoWdhETv8U",
        "colab_type": "code",
        "colab": {
          "base_uri": "https://localhost:8080/",
          "height": 1000
        },
        "outputId": "19ccd6f7-9d3c-4d47-8824-16ad7bc73872"
      },
      "source": [
        "state_dataset"
      ],
      "execution_count": 18,
      "outputs": [
        {
          "output_type": "execute_result",
          "data": {
            "text/html": [
              "<div>\n",
              "<style scoped>\n",
              "    .dataframe tbody tr th:only-of-type {\n",
              "        vertical-align: middle;\n",
              "    }\n",
              "\n",
              "    .dataframe tbody tr th {\n",
              "        vertical-align: top;\n",
              "    }\n",
              "\n",
              "    .dataframe thead th {\n",
              "        text-align: right;\n",
              "    }\n",
              "</style>\n",
              "<table border=\"1\" class=\"dataframe\">\n",
              "  <thead>\n",
              "    <tr style=\"text-align: right;\">\n",
              "      <th></th>\n",
              "      <th>state</th>\n",
              "      <th>cases</th>\n",
              "    </tr>\n",
              "  </thead>\n",
              "  <tbody>\n",
              "    <tr>\n",
              "      <th>0</th>\n",
              "      <td>Northern Mariana Islands</td>\n",
              "      <td>22</td>\n",
              "    </tr>\n",
              "    <tr>\n",
              "      <th>1</th>\n",
              "      <td>Virgin Islands</td>\n",
              "      <td>69</td>\n",
              "    </tr>\n",
              "    <tr>\n",
              "      <th>2</th>\n",
              "      <td>Alaska</td>\n",
              "      <td>412</td>\n",
              "    </tr>\n",
              "    <tr>\n",
              "      <th>3</th>\n",
              "      <td>Montana</td>\n",
              "      <td>479</td>\n",
              "    </tr>\n",
              "    <tr>\n",
              "      <th>4</th>\n",
              "      <td>Hawaii</td>\n",
              "      <td>637</td>\n",
              "    </tr>\n",
              "    <tr>\n",
              "      <th>5</th>\n",
              "      <td>Wyoming</td>\n",
              "      <td>843</td>\n",
              "    </tr>\n",
              "    <tr>\n",
              "      <th>6</th>\n",
              "      <td>Vermont</td>\n",
              "      <td>962</td>\n",
              "    </tr>\n",
              "    <tr>\n",
              "      <th>7</th>\n",
              "      <td>Guam</td>\n",
              "      <td>1135</td>\n",
              "    </tr>\n",
              "    <tr>\n",
              "      <th>8</th>\n",
              "      <td>West Virginia</td>\n",
              "      <td>1782</td>\n",
              "    </tr>\n",
              "    <tr>\n",
              "      <th>9</th>\n",
              "      <td>Maine</td>\n",
              "      <td>2074</td>\n",
              "    </tr>\n",
              "    <tr>\n",
              "      <th>10</th>\n",
              "      <td>North Dakota</td>\n",
              "      <td>2457</td>\n",
              "    </tr>\n",
              "    <tr>\n",
              "      <th>11</th>\n",
              "      <td>Idaho</td>\n",
              "      <td>2664</td>\n",
              "    </tr>\n",
              "    <tr>\n",
              "      <th>12</th>\n",
              "      <td>Puerto Rico</td>\n",
              "      <td>3260</td>\n",
              "    </tr>\n",
              "    <tr>\n",
              "      <th>13</th>\n",
              "      <td>Oregon</td>\n",
              "      <td>3949</td>\n",
              "    </tr>\n",
              "    <tr>\n",
              "      <th>14</th>\n",
              "      <td>New Hampshire</td>\n",
              "      <td>4197</td>\n",
              "    </tr>\n",
              "    <tr>\n",
              "      <th>15</th>\n",
              "      <td>South Dakota</td>\n",
              "      <td>4586</td>\n",
              "    </tr>\n",
              "    <tr>\n",
              "      <th>16</th>\n",
              "      <td>Arkansas</td>\n",
              "      <td>6029</td>\n",
              "    </tr>\n",
              "    <tr>\n",
              "      <th>17</th>\n",
              "      <td>Oklahoma</td>\n",
              "      <td>6090</td>\n",
              "    </tr>\n",
              "    <tr>\n",
              "      <th>18</th>\n",
              "      <td>New Mexico</td>\n",
              "      <td>7026</td>\n",
              "    </tr>\n",
              "    <tr>\n",
              "      <th>19</th>\n",
              "      <td>Nevada</td>\n",
              "      <td>7959</td>\n",
              "    </tr>\n",
              "    <tr>\n",
              "      <th>20</th>\n",
              "      <td>District of Columbia</td>\n",
              "      <td>8225</td>\n",
              "    </tr>\n",
              "    <tr>\n",
              "      <th>21</th>\n",
              "      <td>Utah</td>\n",
              "      <td>8521</td>\n",
              "    </tr>\n",
              "    <tr>\n",
              "      <th>22</th>\n",
              "      <td>Kentucky</td>\n",
              "      <td>8899</td>\n",
              "    </tr>\n",
              "    <tr>\n",
              "      <th>23</th>\n",
              "      <td>Delaware</td>\n",
              "      <td>8965</td>\n",
              "    </tr>\n",
              "    <tr>\n",
              "      <th>24</th>\n",
              "      <td>Kansas</td>\n",
              "      <td>9272</td>\n",
              "    </tr>\n",
              "    <tr>\n",
              "      <th>25</th>\n",
              "      <td>South Carolina</td>\n",
              "      <td>10178</td>\n",
              "    </tr>\n",
              "    <tr>\n",
              "      <th>26</th>\n",
              "      <td>Missouri</td>\n",
              "      <td>12296</td>\n",
              "    </tr>\n",
              "    <tr>\n",
              "      <th>27</th>\n",
              "      <td>Nebraska</td>\n",
              "      <td>12355</td>\n",
              "    </tr>\n",
              "    <tr>\n",
              "      <th>28</th>\n",
              "      <td>Mississippi</td>\n",
              "      <td>13458</td>\n",
              "    </tr>\n",
              "    <tr>\n",
              "      <th>29</th>\n",
              "      <td>Rhode Island</td>\n",
              "      <td>14065</td>\n",
              "    </tr>\n",
              "    <tr>\n",
              "      <th>30</th>\n",
              "      <td>Alabama</td>\n",
              "      <td>14986</td>\n",
              "    </tr>\n",
              "    <tr>\n",
              "      <th>31</th>\n",
              "      <td>Wisconsin</td>\n",
              "      <td>15646</td>\n",
              "    </tr>\n",
              "    <tr>\n",
              "      <th>32</th>\n",
              "      <td>Arizona</td>\n",
              "      <td>16561</td>\n",
              "    </tr>\n",
              "    <tr>\n",
              "      <th>33</th>\n",
              "      <td>Iowa</td>\n",
              "      <td>17628</td>\n",
              "    </tr>\n",
              "    <tr>\n",
              "      <th>34</th>\n",
              "      <td>Tennessee</td>\n",
              "      <td>20533</td>\n",
              "    </tr>\n",
              "    <tr>\n",
              "      <th>35</th>\n",
              "      <td>Washington</td>\n",
              "      <td>21005</td>\n",
              "    </tr>\n",
              "    <tr>\n",
              "      <th>36</th>\n",
              "      <td>Minnesota</td>\n",
              "      <td>21324</td>\n",
              "    </tr>\n",
              "    <tr>\n",
              "      <th>37</th>\n",
              "      <td>North Carolina</td>\n",
              "      <td>23997</td>\n",
              "    </tr>\n",
              "    <tr>\n",
              "      <th>38</th>\n",
              "      <td>Colorado</td>\n",
              "      <td>24256</td>\n",
              "    </tr>\n",
              "    <tr>\n",
              "      <th>39</th>\n",
              "      <td>Ohio</td>\n",
              "      <td>32477</td>\n",
              "    </tr>\n",
              "    <tr>\n",
              "      <th>40</th>\n",
              "      <td>Indiana</td>\n",
              "      <td>32489</td>\n",
              "    </tr>\n",
              "    <tr>\n",
              "      <th>41</th>\n",
              "      <td>Virginia</td>\n",
              "      <td>37727</td>\n",
              "    </tr>\n",
              "    <tr>\n",
              "      <th>42</th>\n",
              "      <td>Louisiana</td>\n",
              "      <td>37916</td>\n",
              "    </tr>\n",
              "    <tr>\n",
              "      <th>43</th>\n",
              "      <td>Connecticut</td>\n",
              "      <td>40873</td>\n",
              "    </tr>\n",
              "    <tr>\n",
              "      <th>44</th>\n",
              "      <td>Georgia</td>\n",
              "      <td>41414</td>\n",
              "    </tr>\n",
              "    <tr>\n",
              "      <th>45</th>\n",
              "      <td>Maryland</td>\n",
              "      <td>47754</td>\n",
              "    </tr>\n",
              "    <tr>\n",
              "      <th>46</th>\n",
              "      <td>Florida</td>\n",
              "      <td>51738</td>\n",
              "    </tr>\n",
              "    <tr>\n",
              "      <th>47</th>\n",
              "      <td>Michigan</td>\n",
              "      <td>54816</td>\n",
              "    </tr>\n",
              "    <tr>\n",
              "      <th>48</th>\n",
              "      <td>Texas</td>\n",
              "      <td>56490</td>\n",
              "    </tr>\n",
              "    <tr>\n",
              "      <th>49</th>\n",
              "      <td>Pennsylvania</td>\n",
              "      <td>72356</td>\n",
              "    </tr>\n",
              "    <tr>\n",
              "      <th>50</th>\n",
              "      <td>Massachusetts</td>\n",
              "      <td>93271</td>\n",
              "    </tr>\n",
              "    <tr>\n",
              "      <th>51</th>\n",
              "      <td>California</td>\n",
              "      <td>97017</td>\n",
              "    </tr>\n",
              "    <tr>\n",
              "      <th>52</th>\n",
              "      <td>Illinois</td>\n",
              "      <td>112248</td>\n",
              "    </tr>\n",
              "    <tr>\n",
              "      <th>53</th>\n",
              "      <td>New Jersey</td>\n",
              "      <td>155092</td>\n",
              "    </tr>\n",
              "    <tr>\n",
              "      <th>54</th>\n",
              "      <td>New York</td>\n",
              "      <td>367625</td>\n",
              "    </tr>\n",
              "  </tbody>\n",
              "</table>\n",
              "</div>"
            ],
            "text/plain": [
              "                       state   cases\n",
              "0   Northern Mariana Islands      22\n",
              "1             Virgin Islands      69\n",
              "2                     Alaska     412\n",
              "3                    Montana     479\n",
              "4                     Hawaii     637\n",
              "5                    Wyoming     843\n",
              "6                    Vermont     962\n",
              "7                       Guam    1135\n",
              "8              West Virginia    1782\n",
              "9                      Maine    2074\n",
              "10              North Dakota    2457\n",
              "11                     Idaho    2664\n",
              "12               Puerto Rico    3260\n",
              "13                    Oregon    3949\n",
              "14             New Hampshire    4197\n",
              "15              South Dakota    4586\n",
              "16                  Arkansas    6029\n",
              "17                  Oklahoma    6090\n",
              "18                New Mexico    7026\n",
              "19                    Nevada    7959\n",
              "20      District of Columbia    8225\n",
              "21                      Utah    8521\n",
              "22                  Kentucky    8899\n",
              "23                  Delaware    8965\n",
              "24                    Kansas    9272\n",
              "25            South Carolina   10178\n",
              "26                  Missouri   12296\n",
              "27                  Nebraska   12355\n",
              "28               Mississippi   13458\n",
              "29              Rhode Island   14065\n",
              "30                   Alabama   14986\n",
              "31                 Wisconsin   15646\n",
              "32                   Arizona   16561\n",
              "33                      Iowa   17628\n",
              "34                 Tennessee   20533\n",
              "35                Washington   21005\n",
              "36                 Minnesota   21324\n",
              "37            North Carolina   23997\n",
              "38                  Colorado   24256\n",
              "39                      Ohio   32477\n",
              "40                   Indiana   32489\n",
              "41                  Virginia   37727\n",
              "42                 Louisiana   37916\n",
              "43               Connecticut   40873\n",
              "44                   Georgia   41414\n",
              "45                  Maryland   47754\n",
              "46                   Florida   51738\n",
              "47                  Michigan   54816\n",
              "48                     Texas   56490\n",
              "49              Pennsylvania   72356\n",
              "50             Massachusetts   93271\n",
              "51                California   97017\n",
              "52                  Illinois  112248\n",
              "53                New Jersey  155092\n",
              "54                  New York  367625"
            ]
          },
          "metadata": {
            "tags": []
          },
          "execution_count": 18
        }
      ]
    },
    {
      "cell_type": "markdown",
      "metadata": {
        "id": "Uc9i-4ntf-hQ",
        "colab_type": "text"
      },
      "source": [
        "Population is high in New York state. That can be the reason for high number of cases.\n",
        "New Jersey is neighbouring state of NY. Hence the high number of cases.\n",
        "Massachusetts, California, Illinois, etc. have many universities and have cities which have visitors from around the world, Which can be the reason for increased number of cases.\n",
        "On the other hand sates like Northern Mariana Islands, Virgin Islands, Alaska, Montana, Hawaii, etc. are isolated states and less commutation from other places, which can be a reason for comparitively less number of cases."
      ]
    },
    {
      "cell_type": "code",
      "metadata": {
        "id": "1CCoTSOojTJt",
        "colab_type": "code",
        "colab": {}
      },
      "source": [
        "fips_dataset = df.groupby('fips')['cases'].max().sort_values().to_frame().reset_index()"
      ],
      "execution_count": 0,
      "outputs": []
    },
    {
      "cell_type": "code",
      "metadata": {
        "id": "ow70o5J0fAXh",
        "colab_type": "code",
        "colab": {
          "base_uri": "https://localhost:8080/",
          "height": 386
        },
        "outputId": "96725480-3ee5-45c1-d37e-81c6ffda9a18"
      },
      "source": [
        "!pip install geopandas==0.3.0\n",
        "!pip install pyshp==1.2.10\n",
        "!pip install shapely==1.6.3"
      ],
      "execution_count": 19,
      "outputs": [
        {
          "output_type": "stream",
          "text": [
            "Requirement already satisfied: geopandas==0.3.0 in /usr/local/lib/python3.6/dist-packages (0.3.0)\n",
            "Requirement already satisfied: pyproj in /usr/local/lib/python3.6/dist-packages (from geopandas==0.3.0) (2.6.1.post1)\n",
            "Requirement already satisfied: shapely in /usr/local/lib/python3.6/dist-packages (from geopandas==0.3.0) (1.6.3)\n",
            "Requirement already satisfied: pandas in /usr/local/lib/python3.6/dist-packages (from geopandas==0.3.0) (1.0.3)\n",
            "Requirement already satisfied: descartes in /usr/local/lib/python3.6/dist-packages (from geopandas==0.3.0) (1.1.0)\n",
            "Requirement already satisfied: fiona in /usr/local/lib/python3.6/dist-packages (from geopandas==0.3.0) (1.8.13.post1)\n",
            "Requirement already satisfied: python-dateutil>=2.6.1 in /usr/local/lib/python3.6/dist-packages (from pandas->geopandas==0.3.0) (2.8.1)\n",
            "Requirement already satisfied: pytz>=2017.2 in /usr/local/lib/python3.6/dist-packages (from pandas->geopandas==0.3.0) (2018.9)\n",
            "Requirement already satisfied: numpy>=1.13.3 in /usr/local/lib/python3.6/dist-packages (from pandas->geopandas==0.3.0) (1.18.4)\n",
            "Requirement already satisfied: matplotlib in /usr/local/lib/python3.6/dist-packages (from descartes->geopandas==0.3.0) (3.2.1)\n",
            "Requirement already satisfied: attrs>=17 in /usr/local/lib/python3.6/dist-packages (from fiona->geopandas==0.3.0) (19.3.0)\n",
            "Requirement already satisfied: munch in /usr/local/lib/python3.6/dist-packages (from fiona->geopandas==0.3.0) (2.5.0)\n",
            "Requirement already satisfied: six>=1.7 in /usr/local/lib/python3.6/dist-packages (from fiona->geopandas==0.3.0) (1.12.0)\n",
            "Requirement already satisfied: click<8,>=4.0 in /usr/local/lib/python3.6/dist-packages (from fiona->geopandas==0.3.0) (7.1.2)\n",
            "Requirement already satisfied: cligj>=0.5 in /usr/local/lib/python3.6/dist-packages (from fiona->geopandas==0.3.0) (0.5.0)\n",
            "Requirement already satisfied: click-plugins>=1.0 in /usr/local/lib/python3.6/dist-packages (from fiona->geopandas==0.3.0) (1.1.1)\n",
            "Requirement already satisfied: pyparsing!=2.0.4,!=2.1.2,!=2.1.6,>=2.0.1 in /usr/local/lib/python3.6/dist-packages (from matplotlib->descartes->geopandas==0.3.0) (2.4.7)\n",
            "Requirement already satisfied: cycler>=0.10 in /usr/local/lib/python3.6/dist-packages (from matplotlib->descartes->geopandas==0.3.0) (0.10.0)\n",
            "Requirement already satisfied: kiwisolver>=1.0.1 in /usr/local/lib/python3.6/dist-packages (from matplotlib->descartes->geopandas==0.3.0) (1.2.0)\n",
            "Requirement already satisfied: pyshp==1.2.10 in /usr/local/lib/python3.6/dist-packages (1.2.10)\n",
            "Requirement already satisfied: shapely==1.6.3 in /usr/local/lib/python3.6/dist-packages (1.6.3)\n"
          ],
          "name": "stdout"
        }
      ]
    },
    {
      "cell_type": "code",
      "metadata": {
        "id": "_dwArc2UnvwS",
        "colab_type": "code",
        "colab": {}
      },
      "source": [
        "import matplotlib.pyplot as plt"
      ],
      "execution_count": 0,
      "outputs": []
    },
    {
      "cell_type": "code",
      "metadata": {
        "id": "j34lPT01kNRk",
        "colab_type": "code",
        "colab": {
          "base_uri": "https://localhost:8080/",
          "height": 605
        },
        "outputId": "d7effdd7-8f06-4e80-c524-33f616328e73"
      },
      "source": [
        "plt.figure(figsize = (10,10))\n",
        "state_dataset.set_index('state').cases.plot()\n",
        "plt.show()"
      ],
      "execution_count": 39,
      "outputs": [
        {
          "output_type": "display_data",
          "data": {
            "image/png": "[encoded data removed]",
            "text/plain": [
              "<Figure size 720x720 with 1 Axes>"
            ]
          },
          "metadata": {
            "tags": [],
            "needs_background": "light"
          }
        }
      ]
    },
    {
      "cell_type": "code",
      "metadata": {
        "id": "Wyug7a_7h5iV",
        "colab_type": "code",
        "colab": {
          "base_uri": "https://localhost:8080/",
          "height": 411
        },
        "outputId": "7e722a40-59ab-4113-ed3c-d8bab103a8e8"
      },
      "source": [
        "state_dataset.set_index('state').cases.plot(kind = 'bar')"
      ],
      "execution_count": 41,
      "outputs": [
        {
          "output_type": "execute_result",
          "data": {
            "text/plain": [
              "<matplotlib.axes._subplots.AxesSubplot at 0x7f005f513630>"
            ]
          },
          "metadata": {
            "tags": []
          },
          "execution_count": 41
        },
        {
          "output_type": "display_data",
          "data": {
            "image/png": "[encoded data removed]",
            "text/plain": [
              "<Figure size 432x288 with 1 Axes>"
            ]
          },
          "metadata": {
            "tags": [],
            "needs_background": "light"
          }
        }
      ]
    },
    {
      "cell_type": "code",
      "metadata": {
        "id": "W5KENpd0jBDU",
        "colab_type": "code",
        "colab": {
          "base_uri": "https://localhost:8080/",
          "height": 592
        },
        "outputId": "7211ee15-275f-4d6b-d4dc-faadd0604ba2"
      },
      "source": [
        "plt.figure(figsize = (10,10))\n",
        "state_dataset.set_index('state').cases.plot(kind = 'barh')\n",
        "plt.show()"
      ],
      "execution_count": 42,
      "outputs": [
        {
          "output_type": "display_data",
          "data": {
            "image/png": "[encoded data removed]",
            "text/plain": [
              "<Figure size 720x720 with 1 Axes>"
            ]
          },
          "metadata": {
            "tags": [],
            "needs_background": "light"
          }
        }
      ]
    },
    {
      "cell_type": "code",
      "metadata": {
        "id": "qxpxTd4Om95G",
        "colab_type": "code",
        "colab": {}
      },
      "source": [
        ""
      ],
      "execution_count": 0,
      "outputs": []
    }
  ]
}