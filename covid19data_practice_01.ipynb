{
  "nbformat": 4,
  "nbformat_minor": 0,
  "metadata": {
    "colab": {
      "name": "covid19data_practice_01.ipynb",
      "provenance": [],
      "collapsed_sections": [],
      "authorship_tag": "ABX9TyMiIyCWJAUDHIYYGI+6vBrl",
      "include_colab_link": true
    },
    "kernelspec": {
      "name": "python3",
      "display_name": "Python 3"
    }
  },
  "cells": [
    {
      "cell_type": "markdown",
      "metadata": {
        "id": "view-in-github",
        "colab_type": "text"
      },
      "source": [
        "<a href=\"https://colab.research.google.com/github/Vaisakh-Babu/pandas_practice/blob/master/covid19data_practice_01.ipynb\" target=\"_parent\"><img src=\"https://colab.research.google.com/assets/colab-badge.svg\" alt=\"Open In Colab\"/></a>"
      ]
    },
    {
      "cell_type": "markdown",
      "metadata": {
        "id": "l-2qUhnHRfKm",
        "colab_type": "text"
      },
      "source": [
        "##Covid-19 data of United States\n",
        "###Trying to Analyse the covid-19 data which is available at \n",
        "https://github.com/PayneLab/covid19pandas"
      ]
    },
    {
      "cell_type": "code",
      "metadata": {
        "id": "Jha27JyOMIem",
        "colab_type": "code",
        "colab": {
          "base_uri": "https://localhost:8080/",
          "height": 370
        },
        "outputId": "2465e3f2-e16c-4f07-b9f3-1f1ca8ef1c8d"
      },
      "source": [
        "! pip install covid19pandas"
      ],
      "execution_count": 2,
      "outputs": [
        {
          "output_type": "stream",
          "text": [
            "Collecting covid19pandas\n",
            "  Downloading https://files.pythonhosted.org/packages/15/e1/cfd3f7f1cc7c908b28966fcb3e405b5fec9e6b6834cdf8206d32903a93bf/covid19pandas-0.3.0-py3-none-any.whl\n",
            "Requirement already satisfied: seaborn>=0.10.0 in /usr/local/lib/python3.6/dist-packages (from covid19pandas) (0.10.1)\n",
            "Requirement already satisfied: numpy>=1.16.3 in /usr/local/lib/python3.6/dist-packages (from covid19pandas) (1.18.4)\n",
            "Requirement already satisfied: requests>=2.21.0 in /usr/local/lib/python3.6/dist-packages (from covid19pandas) (2.23.0)\n",
            "Requirement already satisfied: pandas>=0.25.1 in /usr/local/lib/python3.6/dist-packages (from covid19pandas) (1.0.3)\n",
            "Requirement already satisfied: matplotlib>=3.1.0 in /usr/local/lib/python3.6/dist-packages (from covid19pandas) (3.2.1)\n",
            "Requirement already satisfied: scipy>=1.0.1 in /usr/local/lib/python3.6/dist-packages (from seaborn>=0.10.0->covid19pandas) (1.4.1)\n",
            "Requirement already satisfied: chardet<4,>=3.0.2 in /usr/local/lib/python3.6/dist-packages (from requests>=2.21.0->covid19pandas) (3.0.4)\n",
            "Requirement already satisfied: certifi>=2017.4.17 in /usr/local/lib/python3.6/dist-packages (from requests>=2.21.0->covid19pandas) (2020.4.5.1)\n",
            "Requirement already satisfied: idna<3,>=2.5 in /usr/local/lib/python3.6/dist-packages (from requests>=2.21.0->covid19pandas) (2.9)\n",
            "Requirement already satisfied: urllib3!=1.25.0,!=1.25.1,<1.26,>=1.21.1 in /usr/local/lib/python3.6/dist-packages (from requests>=2.21.0->covid19pandas) (1.24.3)\n",
            "Requirement already satisfied: pytz>=2017.2 in /usr/local/lib/python3.6/dist-packages (from pandas>=0.25.1->covid19pandas) (2018.9)\n",
            "Requirement already satisfied: python-dateutil>=2.6.1 in /usr/local/lib/python3.6/dist-packages (from pandas>=0.25.1->covid19pandas) (2.8.1)\n",
            "Requirement already satisfied: kiwisolver>=1.0.1 in /usr/local/lib/python3.6/dist-packages (from matplotlib>=3.1.0->covid19pandas) (1.2.0)\n",
            "Requirement already satisfied: pyparsing!=2.0.4,!=2.1.2,!=2.1.6,>=2.0.1 in /usr/local/lib/python3.6/dist-packages (from matplotlib>=3.1.0->covid19pandas) (2.4.7)\n",
            "Requirement already satisfied: cycler>=0.10 in /usr/local/lib/python3.6/dist-packages (from matplotlib>=3.1.0->covid19pandas) (0.10.0)\n",
            "Requirement already satisfied: six>=1.5 in /usr/local/lib/python3.6/dist-packages (from python-dateutil>=2.6.1->pandas>=0.25.1->covid19pandas) (1.12.0)\n",
            "Installing collected packages: covid19pandas\n",
            "Successfully installed covid19pandas-0.3.0\n"
          ],
          "name": "stdout"
        }
      ]
    },
    {
      "cell_type": "code",
      "metadata": {
        "id": "vs--7ic1O9eD",
        "colab_type": "code",
        "colab": {
          "base_uri": "https://localhost:8080/",
          "height": 70
        },
        "outputId": "ec975ca1-3928-4b34-fa73-a5a0895d703e"
      },
      "source": [
        "import covid19pandas as cvd"
      ],
      "execution_count": 3,
      "outputs": [
        {
          "output_type": "stream",
          "text": [
            "/usr/local/lib/python3.6/dist-packages/statsmodels/tools/_testing.py:19: FutureWarning: pandas.util.testing is deprecated. Use the functions in the public API at pandas.testing instead.\n",
            "  import pandas.util.testing as tm\n"
          ],
          "name": "stderr"
        }
      ]
    },
    {
      "cell_type": "code",
      "metadata": {
        "id": "Zr03rgpEPOYW",
        "colab_type": "code",
        "colab": {
          "base_uri": "https://localhost:8080/",
          "height": 33
        },
        "outputId": "32a9b313-018a-4ab8-821b-a17c7a6cbe14"
      },
      "source": [
        "df = cvd.get_data_nyt()"
      ],
      "execution_count": 4,
      "outputs": [
        {
          "output_type": "stream",
          "text": [
            "These data were obtained from The New York Times (https://github.com/nytimes/covid-19-data).\n"
          ],
          "name": "stdout"
        }
      ]
    },
    {
      "cell_type": "code",
      "metadata": {
        "id": "nQ176zpIPUsR",
        "colab_type": "code",
        "colab": {
          "base_uri": "https://localhost:8080/",
          "height": 406
        },
        "outputId": "6e4d7a39-538b-4d9c-b229-56f56fe2572f"
      },
      "source": [
        "df"
      ],
      "execution_count": 5,
      "outputs": [
        {
          "output_type": "execute_result",
          "data": {
            "text/html": [
              "<div>\n",
              "<style scoped>\n",
              "    .dataframe tbody tr th:only-of-type {\n",
              "        vertical-align: middle;\n",
              "    }\n",
              "\n",
              "    .dataframe tbody tr th {\n",
              "        vertical-align: top;\n",
              "    }\n",
              "\n",
              "    .dataframe thead th {\n",
              "        text-align: right;\n",
              "    }\n",
              "</style>\n",
              "<table border=\"1\" class=\"dataframe\">\n",
              "  <thead>\n",
              "    <tr style=\"text-align: right;\">\n",
              "      <th></th>\n",
              "      <th>date</th>\n",
              "      <th>state</th>\n",
              "      <th>fips</th>\n",
              "      <th>cases</th>\n",
              "      <th>deaths</th>\n",
              "    </tr>\n",
              "  </thead>\n",
              "  <tbody>\n",
              "    <tr>\n",
              "      <th>0</th>\n",
              "      <td>2020-01-21</td>\n",
              "      <td>Washington</td>\n",
              "      <td>53</td>\n",
              "      <td>1</td>\n",
              "      <td>0</td>\n",
              "    </tr>\n",
              "    <tr>\n",
              "      <th>1</th>\n",
              "      <td>2020-01-22</td>\n",
              "      <td>Washington</td>\n",
              "      <td>53</td>\n",
              "      <td>1</td>\n",
              "      <td>0</td>\n",
              "    </tr>\n",
              "    <tr>\n",
              "      <th>2</th>\n",
              "      <td>2020-01-23</td>\n",
              "      <td>Washington</td>\n",
              "      <td>53</td>\n",
              "      <td>1</td>\n",
              "      <td>0</td>\n",
              "    </tr>\n",
              "    <tr>\n",
              "      <th>3</th>\n",
              "      <td>2020-01-24</td>\n",
              "      <td>Illinois</td>\n",
              "      <td>17</td>\n",
              "      <td>1</td>\n",
              "      <td>0</td>\n",
              "    </tr>\n",
              "    <tr>\n",
              "      <th>4</th>\n",
              "      <td>2020-01-24</td>\n",
              "      <td>Washington</td>\n",
              "      <td>53</td>\n",
              "      <td>1</td>\n",
              "      <td>0</td>\n",
              "    </tr>\n",
              "    <tr>\n",
              "      <th>...</th>\n",
              "      <td>...</td>\n",
              "      <td>...</td>\n",
              "      <td>...</td>\n",
              "      <td>...</td>\n",
              "      <td>...</td>\n",
              "    </tr>\n",
              "    <tr>\n",
              "      <th>4629</th>\n",
              "      <td>2020-05-25</td>\n",
              "      <td>Virginia</td>\n",
              "      <td>51</td>\n",
              "      <td>37727</td>\n",
              "      <td>1208</td>\n",
              "    </tr>\n",
              "    <tr>\n",
              "      <th>4630</th>\n",
              "      <td>2020-05-25</td>\n",
              "      <td>Washington</td>\n",
              "      <td>53</td>\n",
              "      <td>21005</td>\n",
              "      <td>1076</td>\n",
              "    </tr>\n",
              "    <tr>\n",
              "      <th>4631</th>\n",
              "      <td>2020-05-25</td>\n",
              "      <td>West Virginia</td>\n",
              "      <td>54</td>\n",
              "      <td>1782</td>\n",
              "      <td>73</td>\n",
              "    </tr>\n",
              "    <tr>\n",
              "      <th>4632</th>\n",
              "      <td>2020-05-25</td>\n",
              "      <td>Wisconsin</td>\n",
              "      <td>55</td>\n",
              "      <td>15646</td>\n",
              "      <td>514</td>\n",
              "    </tr>\n",
              "    <tr>\n",
              "      <th>4633</th>\n",
              "      <td>2020-05-25</td>\n",
              "      <td>Wyoming</td>\n",
              "      <td>56</td>\n",
              "      <td>843</td>\n",
              "      <td>12</td>\n",
              "    </tr>\n",
              "  </tbody>\n",
              "</table>\n",
              "<p>4634 rows × 5 columns</p>\n",
              "</div>"
            ],
            "text/plain": [
              "           date          state  fips  cases  deaths\n",
              "0    2020-01-21     Washington    53      1       0\n",
              "1    2020-01-22     Washington    53      1       0\n",
              "2    2020-01-23     Washington    53      1       0\n",
              "3    2020-01-24       Illinois    17      1       0\n",
              "4    2020-01-24     Washington    53      1       0\n",
              "...         ...            ...   ...    ...     ...\n",
              "4629 2020-05-25       Virginia    51  37727    1208\n",
              "4630 2020-05-25     Washington    53  21005    1076\n",
              "4631 2020-05-25  West Virginia    54   1782      73\n",
              "4632 2020-05-25      Wisconsin    55  15646     514\n",
              "4633 2020-05-25        Wyoming    56    843      12\n",
              "\n",
              "[4634 rows x 5 columns]"
            ]
          },
          "metadata": {
            "tags": []
          },
          "execution_count": 5
        }
      ]
    },
    {
      "cell_type": "code",
      "metadata": {
        "id": "WOTWQ34lPwnX",
        "colab_type": "code",
        "colab": {
          "base_uri": "https://localhost:8080/",
          "height": 216
        },
        "outputId": "8c661fdd-f942-4b91-89fe-8aa4fce2439e"
      },
      "source": [
        "df.info()"
      ],
      "execution_count": 6,
      "outputs": [
        {
          "output_type": "stream",
          "text": [
            "<class 'pandas.core.frame.DataFrame'>\n",
            "RangeIndex: 4634 entries, 0 to 4633\n",
            "Data columns (total 5 columns):\n",
            " #   Column  Non-Null Count  Dtype         \n",
            "---  ------  --------------  -----         \n",
            " 0   date    4634 non-null   datetime64[ns]\n",
            " 1   state   4634 non-null   object        \n",
            " 2   fips    4634 non-null   int64         \n",
            " 3   cases   4634 non-null   int64         \n",
            " 4   deaths  4634 non-null   int64         \n",
            "dtypes: datetime64[ns](1), int64(3), object(1)\n",
            "memory usage: 181.1+ KB\n"
          ],
          "name": "stdout"
        }
      ]
    },
    {
      "cell_type": "markdown",
      "metadata": {
        "id": "HiCfLnN4mwuT",
        "colab_type": "text"
      },
      "source": [
        "####The given data is cumulative\n",
        "####We will try to create columns for daily data"
      ]
    },
    {
      "cell_type": "code",
      "metadata": {
        "id": "t0eRnZbxjycm",
        "colab_type": "code",
        "colab": {}
      },
      "source": [
        "df = cvd.calc_daily_change(df, 'cases','state')\n",
        "df['daily_deaths'] = cvd.calc_daily_change(df,'deaths',\"state\")[\"daily_deaths\"]"
      ],
      "execution_count": 0,
      "outputs": []
    },
    {
      "cell_type": "code",
      "metadata": {
        "id": "QZ-BouQpp7Xs",
        "colab_type": "code",
        "colab": {
          "base_uri": "https://localhost:8080/",
          "height": 406
        },
        "outputId": "041e480d-a6d5-4da6-c114-5526b86e4ce7"
      },
      "source": [
        "df"
      ],
      "execution_count": 8,
      "outputs": [
        {
          "output_type": "execute_result",
          "data": {
            "text/html": [
              "<div>\n",
              "<style scoped>\n",
              "    .dataframe tbody tr th:only-of-type {\n",
              "        vertical-align: middle;\n",
              "    }\n",
              "\n",
              "    .dataframe tbody tr th {\n",
              "        vertical-align: top;\n",
              "    }\n",
              "\n",
              "    .dataframe thead th {\n",
              "        text-align: right;\n",
              "    }\n",
              "</style>\n",
              "<table border=\"1\" class=\"dataframe\">\n",
              "  <thead>\n",
              "    <tr style=\"text-align: right;\">\n",
              "      <th></th>\n",
              "      <th>date</th>\n",
              "      <th>state</th>\n",
              "      <th>fips</th>\n",
              "      <th>cases</th>\n",
              "      <th>deaths</th>\n",
              "      <th>daily_cases</th>\n",
              "      <th>daily_deaths</th>\n",
              "    </tr>\n",
              "  </thead>\n",
              "  <tbody>\n",
              "    <tr>\n",
              "      <th>0</th>\n",
              "      <td>2020-01-21</td>\n",
              "      <td>Washington</td>\n",
              "      <td>53</td>\n",
              "      <td>1</td>\n",
              "      <td>0</td>\n",
              "      <td>1</td>\n",
              "      <td>0</td>\n",
              "    </tr>\n",
              "    <tr>\n",
              "      <th>1</th>\n",
              "      <td>2020-01-22</td>\n",
              "      <td>Washington</td>\n",
              "      <td>53</td>\n",
              "      <td>1</td>\n",
              "      <td>0</td>\n",
              "      <td>0</td>\n",
              "      <td>0</td>\n",
              "    </tr>\n",
              "    <tr>\n",
              "      <th>2</th>\n",
              "      <td>2020-01-23</td>\n",
              "      <td>Washington</td>\n",
              "      <td>53</td>\n",
              "      <td>1</td>\n",
              "      <td>0</td>\n",
              "      <td>0</td>\n",
              "      <td>0</td>\n",
              "    </tr>\n",
              "    <tr>\n",
              "      <th>3</th>\n",
              "      <td>2020-01-24</td>\n",
              "      <td>Illinois</td>\n",
              "      <td>17</td>\n",
              "      <td>1</td>\n",
              "      <td>0</td>\n",
              "      <td>1</td>\n",
              "      <td>0</td>\n",
              "    </tr>\n",
              "    <tr>\n",
              "      <th>4</th>\n",
              "      <td>2020-01-24</td>\n",
              "      <td>Washington</td>\n",
              "      <td>53</td>\n",
              "      <td>1</td>\n",
              "      <td>0</td>\n",
              "      <td>0</td>\n",
              "      <td>0</td>\n",
              "    </tr>\n",
              "    <tr>\n",
              "      <th>...</th>\n",
              "      <td>...</td>\n",
              "      <td>...</td>\n",
              "      <td>...</td>\n",
              "      <td>...</td>\n",
              "      <td>...</td>\n",
              "      <td>...</td>\n",
              "      <td>...</td>\n",
              "    </tr>\n",
              "    <tr>\n",
              "      <th>4629</th>\n",
              "      <td>2020-05-25</td>\n",
              "      <td>Virginia</td>\n",
              "      <td>51</td>\n",
              "      <td>37727</td>\n",
              "      <td>1208</td>\n",
              "      <td>1483</td>\n",
              "      <td>37</td>\n",
              "    </tr>\n",
              "    <tr>\n",
              "      <th>4630</th>\n",
              "      <td>2020-05-25</td>\n",
              "      <td>Washington</td>\n",
              "      <td>53</td>\n",
              "      <td>21005</td>\n",
              "      <td>1076</td>\n",
              "      <td>273</td>\n",
              "      <td>7</td>\n",
              "    </tr>\n",
              "    <tr>\n",
              "      <th>4631</th>\n",
              "      <td>2020-05-25</td>\n",
              "      <td>West Virginia</td>\n",
              "      <td>54</td>\n",
              "      <td>1782</td>\n",
              "      <td>73</td>\n",
              "      <td>11</td>\n",
              "      <td>1</td>\n",
              "    </tr>\n",
              "    <tr>\n",
              "      <th>4632</th>\n",
              "      <td>2020-05-25</td>\n",
              "      <td>Wisconsin</td>\n",
              "      <td>55</td>\n",
              "      <td>15646</td>\n",
              "      <td>514</td>\n",
              "      <td>284</td>\n",
              "      <td>4</td>\n",
              "    </tr>\n",
              "    <tr>\n",
              "      <th>4633</th>\n",
              "      <td>2020-05-25</td>\n",
              "      <td>Wyoming</td>\n",
              "      <td>56</td>\n",
              "      <td>843</td>\n",
              "      <td>12</td>\n",
              "      <td>30</td>\n",
              "      <td>0</td>\n",
              "    </tr>\n",
              "  </tbody>\n",
              "</table>\n",
              "<p>4634 rows × 7 columns</p>\n",
              "</div>"
            ],
            "text/plain": [
              "           date          state  fips  cases  deaths  daily_cases  daily_deaths\n",
              "0    2020-01-21     Washington    53      1       0            1             0\n",
              "1    2020-01-22     Washington    53      1       0            0             0\n",
              "2    2020-01-23     Washington    53      1       0            0             0\n",
              "3    2020-01-24       Illinois    17      1       0            1             0\n",
              "4    2020-01-24     Washington    53      1       0            0             0\n",
              "...         ...            ...   ...    ...     ...          ...           ...\n",
              "4629 2020-05-25       Virginia    51  37727    1208         1483            37\n",
              "4630 2020-05-25     Washington    53  21005    1076          273             7\n",
              "4631 2020-05-25  West Virginia    54   1782      73           11             1\n",
              "4632 2020-05-25      Wisconsin    55  15646     514          284             4\n",
              "4633 2020-05-25        Wyoming    56    843      12           30             0\n",
              "\n",
              "[4634 rows x 7 columns]"
            ]
          },
          "metadata": {
            "tags": []
          },
          "execution_count": 8
        }
      ]
    },
    {
      "cell_type": "code",
      "metadata": {
        "id": "qXm-OzipyhIt",
        "colab_type": "code",
        "colab": {}
      },
      "source": [
        "ny = df.query(\"state == 'New York'\")"
      ],
      "execution_count": 0,
      "outputs": []
    },
    {
      "cell_type": "code",
      "metadata": {
        "id": "uBw9pIWL1FD0",
        "colab_type": "code",
        "colab": {
          "base_uri": "https://localhost:8080/",
          "height": 281
        },
        "outputId": "943bb45b-9947-4b7d-9a48-321382ae627d"
      },
      "source": [
        "ny.cases.plot(kind = 'line')"
      ],
      "execution_count": 10,
      "outputs": [
        {
          "output_type": "execute_result",
          "data": {
            "text/plain": [
              "<matplotlib.axes._subplots.AxesSubplot at 0x7f155da854a8>"
            ]
          },
          "metadata": {
            "tags": []
          },
          "execution_count": 10
        },
        {
          "output_type": "display_data",
          "data": {
            "image/png": "[encoded data removed]",
            "text/plain": [
              "<Figure size 432x288 with 1 Axes>"
            ]
          },
          "metadata": {
            "tags": [],
            "needs_background": "light"
          }
        }
      ]
    },
    {
      "cell_type": "code",
      "metadata": {
        "id": "VdnG1nCF2oxw",
        "colab_type": "code",
        "colab": {
          "base_uri": "https://localhost:8080/",
          "height": 331
        },
        "outputId": "9a0c384a-68b4-4828-c4dc-504a571fb37c"
      },
      "source": [
        "ny.set_index('date').cases.plot(kind = 'line')"
      ],
      "execution_count": 11,
      "outputs": [
        {
          "output_type": "execute_result",
          "data": {
            "text/plain": [
              "<matplotlib.axes._subplots.AxesSubplot at 0x7f155d95d6a0>"
            ]
          },
          "metadata": {
            "tags": []
          },
          "execution_count": 11
        },
        {
          "output_type": "display_data",
          "data": {
            "image/png": "[encoded data removed]",
            "text/plain": [
              "<Figure size 432x288 with 1 Axes>"
            ]
          },
          "metadata": {
            "tags": [],
            "needs_background": "light"
          }
        }
      ]
    },
    {
      "cell_type": "code",
      "metadata": {
        "id": "41-Hr2x43PWo",
        "colab_type": "code",
        "colab": {
          "base_uri": "https://localhost:8080/",
          "height": 331
        },
        "outputId": "4374c7f5-bc41-4ce4-a501-bedd147ac230"
      },
      "source": [
        "ny.set_index('date').daily_cases.plot(kind = 'line')"
      ],
      "execution_count": 12,
      "outputs": [
        {
          "output_type": "execute_result",
          "data": {
            "text/plain": [
              "<matplotlib.axes._subplots.AxesSubplot at 0x7f155d3cf898>"
            ]
          },
          "metadata": {
            "tags": []
          },
          "execution_count": 12
        },
        {
          "output_type": "display_data",
          "data": {
            "image/png": "[encoded data removed]",
            "text/plain": [
              "<Figure size 432x288 with 1 Axes>"
            ]
          },
          "metadata": {
            "tags": [],
            "needs_background": "light"
          }
        }
      ]
    },
    {
      "cell_type": "code",
      "metadata": {
        "id": "5PmdAhAsP_aD",
        "colab_type": "code",
        "colab": {
          "base_uri": "https://localhost:8080/",
          "height": 966
        },
        "outputId": "cc6637c2-9fc5-48fc-e5fa-453069e9e8ff"
      },
      "source": [
        "df.groupby('state')['cases'].max()"
      ],
      "execution_count": 14,
      "outputs": [
        {
          "output_type": "execute_result",
          "data": {
            "text/plain": [
              "state\n",
              "Alabama                      14986\n",
              "Alaska                         412\n",
              "Arizona                      16561\n",
              "Arkansas                      6029\n",
              "California                   97017\n",
              "Colorado                     24256\n",
              "Connecticut                  40873\n",
              "Delaware                      8965\n",
              "District of Columbia          8225\n",
              "Florida                      51738\n",
              "Georgia                      41414\n",
              "Guam                          1135\n",
              "Hawaii                         637\n",
              "Idaho                         2664\n",
              "Illinois                    112248\n",
              "Indiana                      32489\n",
              "Iowa                         17628\n",
              "Kansas                        9272\n",
              "Kentucky                      8899\n",
              "Louisiana                    37916\n",
              "Maine                         2074\n",
              "Maryland                     47754\n",
              "Massachusetts                93271\n",
              "Michigan                     54816\n",
              "Minnesota                    21324\n",
              "Mississippi                  13458\n",
              "Missouri                     12296\n",
              "Montana                        479\n",
              "Nebraska                     12355\n",
              "Nevada                        7959\n",
              "New Hampshire                 4197\n",
              "New Jersey                  155092\n",
              "New Mexico                    7026\n",
              "New York                    367625\n",
              "North Carolina               23997\n",
              "North Dakota                  2457\n",
              "Northern Mariana Islands        22\n",
              "Ohio                         32477\n",
              "Oklahoma                      6090\n",
              "Oregon                        3949\n",
              "Pennsylvania                 72356\n",
              "Puerto Rico                   3260\n",
              "Rhode Island                 14065\n",
              "South Carolina               10178\n",
              "South Dakota                  4586\n",
              "Tennessee                    20533\n",
              "Texas                        56490\n",
              "Utah                          8521\n",
              "Vermont                        962\n",
              "Virgin Islands                  69\n",
              "Virginia                     37727\n",
              "Washington                   21005\n",
              "West Virginia                 1782\n",
              "Wisconsin                    15646\n",
              "Wyoming                        843\n",
              "Name: cases, dtype: int64"
            ]
          },
          "metadata": {
            "tags": []
          },
          "execution_count": 14
        }
      ]
    },
    {
      "cell_type": "code",
      "metadata": {
        "id": "nowKbtqiRWj-",
        "colab_type": "code",
        "colab": {
          "base_uri": "https://localhost:8080/",
          "height": 966
        },
        "outputId": "f818231d-cbdc-4eec-e131-35fdd27d5348"
      },
      "source": [
        "df.groupby('state')['cases'].max().sort_values()"
      ],
      "execution_count": 15,
      "outputs": [
        {
          "output_type": "execute_result",
          "data": {
            "text/plain": [
              "state\n",
              "Northern Mariana Islands        22\n",
              "Virgin Islands                  69\n",
              "Alaska                         412\n",
              "Montana                        479\n",
              "Hawaii                         637\n",
              "Wyoming                        843\n",
              "Vermont                        962\n",
              "Guam                          1135\n",
              "West Virginia                 1782\n",
              "Maine                         2074\n",
              "North Dakota                  2457\n",
              "Idaho                         2664\n",
              "Puerto Rico                   3260\n",
              "Oregon                        3949\n",
              "New Hampshire                 4197\n",
              "South Dakota                  4586\n",
              "Arkansas                      6029\n",
              "Oklahoma                      6090\n",
              "New Mexico                    7026\n",
              "Nevada                        7959\n",
              "District of Columbia          8225\n",
              "Utah                          8521\n",
              "Kentucky                      8899\n",
              "Delaware                      8965\n",
              "Kansas                        9272\n",
              "South Carolina               10178\n",
              "Missouri                     12296\n",
              "Nebraska                     12355\n",
              "Mississippi                  13458\n",
              "Rhode Island                 14065\n",
              "Alabama                      14986\n",
              "Wisconsin                    15646\n",
              "Arizona                      16561\n",
              "Iowa                         17628\n",
              "Tennessee                    20533\n",
              "Washington                   21005\n",
              "Minnesota                    21324\n",
              "North Carolina               23997\n",
              "Colorado                     24256\n",
              "Ohio                         32477\n",
              "Indiana                      32489\n",
              "Virginia                     37727\n",
              "Louisiana                    37916\n",
              "Connecticut                  40873\n",
              "Georgia                      41414\n",
              "Maryland                     47754\n",
              "Florida                      51738\n",
              "Michigan                     54816\n",
              "Texas                        56490\n",
              "Pennsylvania                 72356\n",
              "Massachusetts                93271\n",
              "California                   97017\n",
              "Illinois                    112248\n",
              "New Jersey                  155092\n",
              "New York                    367625\n",
              "Name: cases, dtype: int64"
            ]
          },
          "metadata": {
            "tags": []
          },
          "execution_count": 15
        }
      ]
    },
    {
      "cell_type": "code",
      "metadata": {
        "id": "NsvQ1kMDRlZJ",
        "colab_type": "code",
        "colab": {}
      },
      "source": [
        ""
      ],
      "execution_count": 0,
      "outputs": []
    }
  ]
}