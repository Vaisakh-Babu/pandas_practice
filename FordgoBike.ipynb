{
  "nbformat": 4,
  "nbformat_minor": 0,
  "metadata": {
    "colab": {
      "name": "FordgoBike.ipynb",
      "provenance": [],
      "authorship_tag": "ABX9TyMXz7hm4BX6vpDRCQpKRmRZ",
      "include_colab_link": true
    },
    "kernelspec": {
      "name": "python3",
      "display_name": "Python 3"
    }
  },
  "cells": [
    {
      "cell_type": "markdown",
      "metadata": {
        "id": "view-in-github",
        "colab_type": "text"
      },
      "source": [
        "<a href=\"https://colab.research.google.com/github/Vaisakh-Babu/pandas_practice/blob/master/FordgoBike.ipynb\" target=\"_parent\"><img src=\"https://colab.research.google.com/assets/colab-badge.svg\" alt=\"Open In Colab\"/></a>"
      ]
    },
    {
      "cell_type": "code",
      "metadata": {
        "id": "Z_sOHZ-Mb3Bw",
        "colab_type": "code",
        "colab": {}
      },
      "source": [
        "import pandas as pd\n",
        "import numpy as np"
      ],
      "execution_count": 0,
      "outputs": []
    },
    {
      "cell_type": "code",
      "metadata": {
        "id": "hHU-X3EVhuvd",
        "colab_type": "code",
        "colab": {
          "base_uri": "https://localhost:8080/",
          "height": 150
        },
        "outputId": "43f8e4f5-8853-4d8e-f5bf-bf5f8c7f696c"
      },
      "source": [
        "# FordGoBike\n",
        "FordGoBike(Bay Wheels) is a regional public bicycle sharing system in the San Francisco Bay Area, California operated by Motivate in a partnership with the Metropolitan Transportation Commission and the Bay Area Air Quality Management District\n",
        "\n",
        "## Problem Statement\n",
        "1. To understand supply damand gap\n",
        "2. To understand most common routes\n"
      ],
      "execution_count": 2,
      "outputs": [
        {
          "output_type": "error",
          "ename": "SyntaxError",
          "evalue": "ignored",
          "traceback": [
            "\u001b[0;36m  File \u001b[0;32m\"<ipython-input-2-2afae45836c1>\"\u001b[0;36m, line \u001b[0;32m2\u001b[0m\n\u001b[0;31m    FordGoBike(Bay Wheels) is a regional public bicycle sharing system in the San Francisco Bay Area, California operated by Motivate in a partnership with the Metropolitan Transportation Commission and the Bay Area Air Quality Management District\u001b[0m\n\u001b[0m                        ^\u001b[0m\n\u001b[0;31mSyntaxError\u001b[0m\u001b[0;31m:\u001b[0m invalid syntax\n"
          ]
        }
      ]
    },
    {
      "cell_type": "code",
      "metadata": {
        "id": "ix4_4nZAb-x4",
        "colab_type": "code",
        "colab": {}
      },
      "source": [
        "df = pd.read_csv('https://s3.amazonaws.com/fordgobike-data/2017-fordgobike-tripdata.csv')"
      ],
      "execution_count": 0,
      "outputs": []
    },
    {
      "cell_type": "code",
      "metadata": {
        "id": "0qE1fmT1cgqy",
        "colab_type": "code",
        "outputId": "1554098f-e966-43fd-a32b-9ddb2e1a776f",
        "colab": {
          "base_uri": "https://localhost:8080/",
          "height": 334
        }
      },
      "source": [
        "df.head()"
      ],
      "execution_count": 4,
      "outputs": [
        {
          "output_type": "execute_result",
          "data": {
            "text/html": [
              "<div>\n",
              "<style scoped>\n",
              "    .dataframe tbody tr th:only-of-type {\n",
              "        vertical-align: middle;\n",
              "    }\n",
              "\n",
              "    .dataframe tbody tr th {\n",
              "        vertical-align: top;\n",
              "    }\n",
              "\n",
              "    .dataframe thead th {\n",
              "        text-align: right;\n",
              "    }\n",
              "</style>\n",
              "<table border=\"1\" class=\"dataframe\">\n",
              "  <thead>\n",
              "    <tr style=\"text-align: right;\">\n",
              "      <th></th>\n",
              "      <th>duration_sec</th>\n",
              "      <th>start_time</th>\n",
              "      <th>end_time</th>\n",
              "      <th>start_station_id</th>\n",
              "      <th>start_station_name</th>\n",
              "      <th>start_station_latitude</th>\n",
              "      <th>start_station_longitude</th>\n",
              "      <th>end_station_id</th>\n",
              "      <th>end_station_name</th>\n",
              "      <th>end_station_latitude</th>\n",
              "      <th>end_station_longitude</th>\n",
              "      <th>bike_id</th>\n",
              "      <th>user_type</th>\n",
              "      <th>member_birth_year</th>\n",
              "      <th>member_gender</th>\n",
              "    </tr>\n",
              "  </thead>\n",
              "  <tbody>\n",
              "    <tr>\n",
              "      <th>0</th>\n",
              "      <td>80110</td>\n",
              "      <td>2017-12-31 16:57:39.6540</td>\n",
              "      <td>2018-01-01 15:12:50.2450</td>\n",
              "      <td>74</td>\n",
              "      <td>Laguna St at Hayes St</td>\n",
              "      <td>37.776435</td>\n",
              "      <td>-122.426244</td>\n",
              "      <td>43</td>\n",
              "      <td>San Francisco Public Library (Grove St at Hyde...</td>\n",
              "      <td>37.778768</td>\n",
              "      <td>-122.415929</td>\n",
              "      <td>96</td>\n",
              "      <td>Customer</td>\n",
              "      <td>1987.0</td>\n",
              "      <td>Male</td>\n",
              "    </tr>\n",
              "    <tr>\n",
              "      <th>1</th>\n",
              "      <td>78800</td>\n",
              "      <td>2017-12-31 15:56:34.8420</td>\n",
              "      <td>2018-01-01 13:49:55.6170</td>\n",
              "      <td>284</td>\n",
              "      <td>Yerba Buena Center for the Arts (Howard St at ...</td>\n",
              "      <td>37.784872</td>\n",
              "      <td>-122.400876</td>\n",
              "      <td>96</td>\n",
              "      <td>Dolores St at 15th St</td>\n",
              "      <td>37.766210</td>\n",
              "      <td>-122.426614</td>\n",
              "      <td>88</td>\n",
              "      <td>Customer</td>\n",
              "      <td>1965.0</td>\n",
              "      <td>Female</td>\n",
              "    </tr>\n",
              "    <tr>\n",
              "      <th>2</th>\n",
              "      <td>45768</td>\n",
              "      <td>2017-12-31 22:45:48.4110</td>\n",
              "      <td>2018-01-01 11:28:36.8830</td>\n",
              "      <td>245</td>\n",
              "      <td>Downtown Berkeley BART</td>\n",
              "      <td>37.870348</td>\n",
              "      <td>-122.267764</td>\n",
              "      <td>245</td>\n",
              "      <td>Downtown Berkeley BART</td>\n",
              "      <td>37.870348</td>\n",
              "      <td>-122.267764</td>\n",
              "      <td>1094</td>\n",
              "      <td>Customer</td>\n",
              "      <td>NaN</td>\n",
              "      <td>NaN</td>\n",
              "    </tr>\n",
              "    <tr>\n",
              "      <th>3</th>\n",
              "      <td>62172</td>\n",
              "      <td>2017-12-31 17:31:10.6360</td>\n",
              "      <td>2018-01-01 10:47:23.5310</td>\n",
              "      <td>60</td>\n",
              "      <td>8th St at Ringold St</td>\n",
              "      <td>37.774520</td>\n",
              "      <td>-122.409449</td>\n",
              "      <td>5</td>\n",
              "      <td>Powell St BART Station (Market St at 5th St)</td>\n",
              "      <td>37.783899</td>\n",
              "      <td>-122.408445</td>\n",
              "      <td>2831</td>\n",
              "      <td>Customer</td>\n",
              "      <td>NaN</td>\n",
              "      <td>NaN</td>\n",
              "    </tr>\n",
              "    <tr>\n",
              "      <th>4</th>\n",
              "      <td>43603</td>\n",
              "      <td>2017-12-31 14:23:14.0010</td>\n",
              "      <td>2018-01-01 02:29:57.5710</td>\n",
              "      <td>239</td>\n",
              "      <td>Bancroft Way at Telegraph Ave</td>\n",
              "      <td>37.868813</td>\n",
              "      <td>-122.258764</td>\n",
              "      <td>247</td>\n",
              "      <td>Fulton St at Bancroft Way</td>\n",
              "      <td>37.867789</td>\n",
              "      <td>-122.265896</td>\n",
              "      <td>3167</td>\n",
              "      <td>Subscriber</td>\n",
              "      <td>1997.0</td>\n",
              "      <td>Female</td>\n",
              "    </tr>\n",
              "  </tbody>\n",
              "</table>\n",
              "</div>"
            ],
            "text/plain": [
              "   duration_sec                start_time  ... member_birth_year  member_gender\n",
              "0         80110  2017-12-31 16:57:39.6540  ...            1987.0           Male\n",
              "1         78800  2017-12-31 15:56:34.8420  ...            1965.0         Female\n",
              "2         45768  2017-12-31 22:45:48.4110  ...               NaN            NaN\n",
              "3         62172  2017-12-31 17:31:10.6360  ...               NaN            NaN\n",
              "4         43603  2017-12-31 14:23:14.0010  ...            1997.0         Female\n",
              "\n",
              "[5 rows x 15 columns]"
            ]
          },
          "metadata": {
            "tags": []
          },
          "execution_count": 4
        }
      ]
    },
    {
      "cell_type": "code",
      "metadata": {
        "id": "_M3v_7ZEgP-V",
        "colab_type": "code",
        "outputId": "6baea08d-5e8a-4aac-de92-d23ba1b68752",
        "colab": {
          "base_uri": "https://localhost:8080/",
          "height": 33
        }
      },
      "source": [
        "df.shape"
      ],
      "execution_count": 5,
      "outputs": [
        {
          "output_type": "execute_result",
          "data": {
            "text/plain": [
              "(519700, 15)"
            ]
          },
          "metadata": {
            "tags": []
          },
          "execution_count": 5
        }
      ]
    },
    {
      "cell_type": "code",
      "metadata": {
        "id": "hju8PvQDgjSm",
        "colab_type": "code",
        "colab": {
          "base_uri": "https://localhost:8080/",
          "height": 383
        },
        "outputId": "cf8f6d5c-5823-45f9-9ea2-3bf261dc0de0"
      },
      "source": [
        "df.info()"
      ],
      "execution_count": 6,
      "outputs": [
        {
          "output_type": "stream",
          "text": [
            "<class 'pandas.core.frame.DataFrame'>\n",
            "RangeIndex: 519700 entries, 0 to 519699\n",
            "Data columns (total 15 columns):\n",
            " #   Column                   Non-Null Count   Dtype  \n",
            "---  ------                   --------------   -----  \n",
            " 0   duration_sec             519700 non-null  int64  \n",
            " 1   start_time               519700 non-null  object \n",
            " 2   end_time                 519700 non-null  object \n",
            " 3   start_station_id         519700 non-null  int64  \n",
            " 4   start_station_name       519700 non-null  object \n",
            " 5   start_station_latitude   519700 non-null  float64\n",
            " 6   start_station_longitude  519700 non-null  float64\n",
            " 7   end_station_id           519700 non-null  int64  \n",
            " 8   end_station_name         519700 non-null  object \n",
            " 9   end_station_latitude     519700 non-null  float64\n",
            " 10  end_station_longitude    519700 non-null  float64\n",
            " 11  bike_id                  519700 non-null  int64  \n",
            " 12  user_type                519700 non-null  object \n",
            " 13  member_birth_year        453159 non-null  float64\n",
            " 14  member_gender            453238 non-null  object \n",
            "dtypes: float64(5), int64(4), object(6)\n",
            "memory usage: 59.5+ MB\n"
          ],
          "name": "stdout"
        }
      ]
    },
    {
      "cell_type": "code",
      "metadata": {
        "id": "b7nGJMDxhRxV",
        "colab_type": "code",
        "colab": {
          "base_uri": "https://localhost:8080/",
          "height": 216
        },
        "outputId": "f10b8092-9073-4d45-ea85-fea7deeb843d"
      },
      "source": [
        "df['start_time']"
      ],
      "execution_count": 7,
      "outputs": [
        {
          "output_type": "execute_result",
          "data": {
            "text/plain": [
              "0         2017-12-31 16:57:39.6540\n",
              "1         2017-12-31 15:56:34.8420\n",
              "2         2017-12-31 22:45:48.4110\n",
              "3         2017-12-31 17:31:10.6360\n",
              "4         2017-12-31 14:23:14.0010\n",
              "                    ...           \n",
              "519695    2017-06-28 10:00:54.5280\n",
              "519696    2017-06-28 09:56:39.6310\n",
              "519697    2017-06-28 09:47:36.3470\n",
              "519698    2017-06-28 09:47:41.6640\n",
              "519699    2017-06-28 09:49:46.3770\n",
              "Name: start_time, Length: 519700, dtype: object"
            ]
          },
          "metadata": {
            "tags": []
          },
          "execution_count": 7
        }
      ]
    },
    {
      "cell_type": "code",
      "metadata": {
        "id": "3GxJh7WPD1cK",
        "colab_type": "code",
        "colab": {}
      },
      "source": [
        "df['start_time'] = pd.to_datetime(df['start_time'])"
      ],
      "execution_count": 0,
      "outputs": []
    },
    {
      "cell_type": "code",
      "metadata": {
        "id": "SUiWSOkpET-N",
        "colab_type": "code",
        "colab": {
          "base_uri": "https://localhost:8080/",
          "height": 383
        },
        "outputId": "c1a799c6-2daf-43d0-9aaa-8b40a22d320e"
      },
      "source": [
        "df.info()"
      ],
      "execution_count": 10,
      "outputs": [
        {
          "output_type": "stream",
          "text": [
            "<class 'pandas.core.frame.DataFrame'>\n",
            "RangeIndex: 519700 entries, 0 to 519699\n",
            "Data columns (total 15 columns):\n",
            " #   Column                   Non-Null Count   Dtype         \n",
            "---  ------                   --------------   -----         \n",
            " 0   duration_sec             519700 non-null  int64         \n",
            " 1   start_time               519700 non-null  datetime64[ns]\n",
            " 2   end_time                 519700 non-null  object        \n",
            " 3   start_station_id         519700 non-null  int64         \n",
            " 4   start_station_name       519700 non-null  object        \n",
            " 5   start_station_latitude   519700 non-null  float64       \n",
            " 6   start_station_longitude  519700 non-null  float64       \n",
            " 7   end_station_id           519700 non-null  int64         \n",
            " 8   end_station_name         519700 non-null  object        \n",
            " 9   end_station_latitude     519700 non-null  float64       \n",
            " 10  end_station_longitude    519700 non-null  float64       \n",
            " 11  bike_id                  519700 non-null  int64         \n",
            " 12  user_type                519700 non-null  object        \n",
            " 13  member_birth_year        453159 non-null  float64       \n",
            " 14  member_gender            453238 non-null  object        \n",
            "dtypes: datetime64[ns](1), float64(5), int64(4), object(5)\n",
            "memory usage: 59.5+ MB\n"
          ],
          "name": "stdout"
        }
      ]
    },
    {
      "cell_type": "code",
      "metadata": {
        "id": "mJFS3tQtEkrL",
        "colab_type": "code",
        "colab": {}
      },
      "source": [
        "df['end_time'] = pd.to_datetime(df['end_time'])"
      ],
      "execution_count": 0,
      "outputs": []
    },
    {
      "cell_type": "code",
      "metadata": {
        "id": "BTq1FYo7Et29",
        "colab_type": "code",
        "colab": {}
      },
      "source": [
        "t1 = df['start_time'][0]"
      ],
      "execution_count": 0,
      "outputs": []
    },
    {
      "cell_type": "code",
      "metadata": {
        "id": "nHRUkJdoFWlg",
        "colab_type": "code",
        "colab": {
          "base_uri": "https://localhost:8080/",
          "height": 33
        },
        "outputId": "00e9437f-7638-428e-a711-d8ff3a1baaed"
      },
      "source": [
        "t1"
      ],
      "execution_count": 13,
      "outputs": [
        {
          "output_type": "execute_result",
          "data": {
            "text/plain": [
              "Timestamp('2017-12-31 16:57:39.654000')"
            ]
          },
          "metadata": {
            "tags": []
          },
          "execution_count": 13
        }
      ]
    },
    {
      "cell_type": "code",
      "metadata": {
        "id": "YNyjkj0LFYI7",
        "colab_type": "code",
        "colab": {
          "base_uri": "https://localhost:8080/",
          "height": 33
        },
        "outputId": "7bda0db3-6053-441e-e9de-77b360724aa3"
      },
      "source": [
        "t1.day_name()"
      ],
      "execution_count": 16,
      "outputs": [
        {
          "output_type": "execute_result",
          "data": {
            "text/plain": [
              "'Sunday'"
            ]
          },
          "metadata": {
            "tags": []
          },
          "execution_count": 16
        }
      ]
    },
    {
      "cell_type": "code",
      "metadata": {
        "id": "7hwjLwjFFb8x",
        "colab_type": "code",
        "colab": {}
      },
      "source": [
        "df['day_name'] = df['start_time'].apply(lambda x: x.day_name())"
      ],
      "execution_count": 0,
      "outputs": []
    },
    {
      "cell_type": "code",
      "metadata": {
        "id": "A5m_O6MBFg-m",
        "colab_type": "code",
        "colab": {
          "base_uri": "https://localhost:8080/",
          "height": 317
        },
        "outputId": "3550c155-dfd3-4404-c989-91db193a6641"
      },
      "source": [
        "df.tail()"
      ],
      "execution_count": 23,
      "outputs": [
        {
          "output_type": "execute_result",
          "data": {
            "text/html": [
              "<div>\n",
              "<style scoped>\n",
              "    .dataframe tbody tr th:only-of-type {\n",
              "        vertical-align: middle;\n",
              "    }\n",
              "\n",
              "    .dataframe tbody tr th {\n",
              "        vertical-align: top;\n",
              "    }\n",
              "\n",
              "    .dataframe thead th {\n",
              "        text-align: right;\n",
              "    }\n",
              "</style>\n",
              "<table border=\"1\" class=\"dataframe\">\n",
              "  <thead>\n",
              "    <tr style=\"text-align: right;\">\n",
              "      <th></th>\n",
              "      <th>duration_sec</th>\n",
              "      <th>start_time</th>\n",
              "      <th>end_time</th>\n",
              "      <th>start_station_id</th>\n",
              "      <th>start_station_name</th>\n",
              "      <th>start_station_latitude</th>\n",
              "      <th>start_station_longitude</th>\n",
              "      <th>end_station_id</th>\n",
              "      <th>end_station_name</th>\n",
              "      <th>end_station_latitude</th>\n",
              "      <th>end_station_longitude</th>\n",
              "      <th>bike_id</th>\n",
              "      <th>user_type</th>\n",
              "      <th>member_birth_year</th>\n",
              "      <th>member_gender</th>\n",
              "      <th>day_name</th>\n",
              "    </tr>\n",
              "  </thead>\n",
              "  <tbody>\n",
              "    <tr>\n",
              "      <th>519695</th>\n",
              "      <td>435</td>\n",
              "      <td>2017-06-28 10:00:54.528</td>\n",
              "      <td>2017-06-28 10:08:10.438</td>\n",
              "      <td>81</td>\n",
              "      <td>Berry St at 4th St</td>\n",
              "      <td>37.775880</td>\n",
              "      <td>-122.393170</td>\n",
              "      <td>45</td>\n",
              "      <td>5th St at Howard St</td>\n",
              "      <td>37.781752</td>\n",
              "      <td>-122.405127</td>\n",
              "      <td>400</td>\n",
              "      <td>Subscriber</td>\n",
              "      <td>1991.0</td>\n",
              "      <td>Male</td>\n",
              "      <td>Wednesday</td>\n",
              "    </tr>\n",
              "    <tr>\n",
              "      <th>519696</th>\n",
              "      <td>431</td>\n",
              "      <td>2017-06-28 09:56:39.631</td>\n",
              "      <td>2017-06-28 10:03:51.090</td>\n",
              "      <td>66</td>\n",
              "      <td>3rd St at Townsend St</td>\n",
              "      <td>37.778742</td>\n",
              "      <td>-122.392741</td>\n",
              "      <td>321</td>\n",
              "      <td>5th at Folsom</td>\n",
              "      <td>37.780146</td>\n",
              "      <td>-122.403071</td>\n",
              "      <td>316</td>\n",
              "      <td>Subscriber</td>\n",
              "      <td>1973.0</td>\n",
              "      <td>Male</td>\n",
              "      <td>Wednesday</td>\n",
              "    </tr>\n",
              "    <tr>\n",
              "      <th>519697</th>\n",
              "      <td>424</td>\n",
              "      <td>2017-06-28 09:47:36.347</td>\n",
              "      <td>2017-06-28 09:54:41.187</td>\n",
              "      <td>21</td>\n",
              "      <td>Montgomery St BART Station (Market St at 2nd St)</td>\n",
              "      <td>37.789625</td>\n",
              "      <td>-122.400811</td>\n",
              "      <td>48</td>\n",
              "      <td>2nd St at S Park St</td>\n",
              "      <td>37.782411</td>\n",
              "      <td>-122.392706</td>\n",
              "      <td>240</td>\n",
              "      <td>Subscriber</td>\n",
              "      <td>1985.0</td>\n",
              "      <td>Female</td>\n",
              "      <td>Wednesday</td>\n",
              "    </tr>\n",
              "    <tr>\n",
              "      <th>519698</th>\n",
              "      <td>366</td>\n",
              "      <td>2017-06-28 09:47:41.664</td>\n",
              "      <td>2017-06-28 09:53:47.715</td>\n",
              "      <td>58</td>\n",
              "      <td>Market St at 10th St</td>\n",
              "      <td>37.776619</td>\n",
              "      <td>-122.417385</td>\n",
              "      <td>59</td>\n",
              "      <td>S Van Ness Ave at Market St</td>\n",
              "      <td>37.774814</td>\n",
              "      <td>-122.418954</td>\n",
              "      <td>669</td>\n",
              "      <td>Subscriber</td>\n",
              "      <td>1981.0</td>\n",
              "      <td>Male</td>\n",
              "      <td>Wednesday</td>\n",
              "    </tr>\n",
              "    <tr>\n",
              "      <th>519699</th>\n",
              "      <td>188</td>\n",
              "      <td>2017-06-28 09:49:46.377</td>\n",
              "      <td>2017-06-28 09:52:55.338</td>\n",
              "      <td>25</td>\n",
              "      <td>Howard St at 2nd St</td>\n",
              "      <td>37.787522</td>\n",
              "      <td>-122.397405</td>\n",
              "      <td>48</td>\n",
              "      <td>2nd St at S Park St</td>\n",
              "      <td>37.782411</td>\n",
              "      <td>-122.392706</td>\n",
              "      <td>117</td>\n",
              "      <td>Subscriber</td>\n",
              "      <td>1984.0</td>\n",
              "      <td>Male</td>\n",
              "      <td>Wednesday</td>\n",
              "    </tr>\n",
              "  </tbody>\n",
              "</table>\n",
              "</div>"
            ],
            "text/plain": [
              "        duration_sec              start_time  ... member_gender   day_name\n",
              "519695           435 2017-06-28 10:00:54.528  ...          Male  Wednesday\n",
              "519696           431 2017-06-28 09:56:39.631  ...          Male  Wednesday\n",
              "519697           424 2017-06-28 09:47:36.347  ...        Female  Wednesday\n",
              "519698           366 2017-06-28 09:47:41.664  ...          Male  Wednesday\n",
              "519699           188 2017-06-28 09:49:46.377  ...          Male  Wednesday\n",
              "\n",
              "[5 rows x 16 columns]"
            ]
          },
          "metadata": {
            "tags": []
          },
          "execution_count": 23
        }
      ]
    },
    {
      "cell_type": "code",
      "metadata": {
        "id": "iJDQNzpGGKpX",
        "colab_type": "code",
        "colab": {}
      },
      "source": [
        "del df['day_name']"
      ],
      "execution_count": 0,
      "outputs": []
    },
    {
      "cell_type": "code",
      "metadata": {
        "id": "ajqwHr0bHa3n",
        "colab_type": "code",
        "colab": {
          "base_uri": "https://localhost:8080/",
          "height": 643
        },
        "outputId": "04c9bb1c-6f92-4c2b-85b8-2672d06ba09a"
      },
      "source": [
        "df"
      ],
      "execution_count": 26,
      "outputs": [
        {
          "output_type": "execute_result",
          "data": {
            "text/html": [
              "<div>\n",
              "<style scoped>\n",
              "    .dataframe tbody tr th:only-of-type {\n",
              "        vertical-align: middle;\n",
              "    }\n",
              "\n",
              "    .dataframe tbody tr th {\n",
              "        vertical-align: top;\n",
              "    }\n",
              "\n",
              "    .dataframe thead th {\n",
              "        text-align: right;\n",
              "    }\n",
              "</style>\n",
              "<table border=\"1\" class=\"dataframe\">\n",
              "  <thead>\n",
              "    <tr style=\"text-align: right;\">\n",
              "      <th></th>\n",
              "      <th>duration_sec</th>\n",
              "      <th>start_time</th>\n",
              "      <th>end_time</th>\n",
              "      <th>start_station_id</th>\n",
              "      <th>start_station_name</th>\n",
              "      <th>start_station_latitude</th>\n",
              "      <th>start_station_longitude</th>\n",
              "      <th>end_station_id</th>\n",
              "      <th>end_station_name</th>\n",
              "      <th>end_station_latitude</th>\n",
              "      <th>end_station_longitude</th>\n",
              "      <th>bike_id</th>\n",
              "      <th>user_type</th>\n",
              "      <th>member_birth_year</th>\n",
              "      <th>member_gender</th>\n",
              "    </tr>\n",
              "  </thead>\n",
              "  <tbody>\n",
              "    <tr>\n",
              "      <th>0</th>\n",
              "      <td>80110</td>\n",
              "      <td>2017-12-31 16:57:39.654</td>\n",
              "      <td>2018-01-01 15:12:50.245</td>\n",
              "      <td>74</td>\n",
              "      <td>Laguna St at Hayes St</td>\n",
              "      <td>37.776435</td>\n",
              "      <td>-122.426244</td>\n",
              "      <td>43</td>\n",
              "      <td>San Francisco Public Library (Grove St at Hyde...</td>\n",
              "      <td>37.778768</td>\n",
              "      <td>-122.415929</td>\n",
              "      <td>96</td>\n",
              "      <td>Customer</td>\n",
              "      <td>1987.0</td>\n",
              "      <td>Male</td>\n",
              "    </tr>\n",
              "    <tr>\n",
              "      <th>1</th>\n",
              "      <td>78800</td>\n",
              "      <td>2017-12-31 15:56:34.842</td>\n",
              "      <td>2018-01-01 13:49:55.617</td>\n",
              "      <td>284</td>\n",
              "      <td>Yerba Buena Center for the Arts (Howard St at ...</td>\n",
              "      <td>37.784872</td>\n",
              "      <td>-122.400876</td>\n",
              "      <td>96</td>\n",
              "      <td>Dolores St at 15th St</td>\n",
              "      <td>37.766210</td>\n",
              "      <td>-122.426614</td>\n",
              "      <td>88</td>\n",
              "      <td>Customer</td>\n",
              "      <td>1965.0</td>\n",
              "      <td>Female</td>\n",
              "    </tr>\n",
              "    <tr>\n",
              "      <th>2</th>\n",
              "      <td>45768</td>\n",
              "      <td>2017-12-31 22:45:48.411</td>\n",
              "      <td>2018-01-01 11:28:36.883</td>\n",
              "      <td>245</td>\n",
              "      <td>Downtown Berkeley BART</td>\n",
              "      <td>37.870348</td>\n",
              "      <td>-122.267764</td>\n",
              "      <td>245</td>\n",
              "      <td>Downtown Berkeley BART</td>\n",
              "      <td>37.870348</td>\n",
              "      <td>-122.267764</td>\n",
              "      <td>1094</td>\n",
              "      <td>Customer</td>\n",
              "      <td>NaN</td>\n",
              "      <td>NaN</td>\n",
              "    </tr>\n",
              "    <tr>\n",
              "      <th>3</th>\n",
              "      <td>62172</td>\n",
              "      <td>2017-12-31 17:31:10.636</td>\n",
              "      <td>2018-01-01 10:47:23.531</td>\n",
              "      <td>60</td>\n",
              "      <td>8th St at Ringold St</td>\n",
              "      <td>37.774520</td>\n",
              "      <td>-122.409449</td>\n",
              "      <td>5</td>\n",
              "      <td>Powell St BART Station (Market St at 5th St)</td>\n",
              "      <td>37.783899</td>\n",
              "      <td>-122.408445</td>\n",
              "      <td>2831</td>\n",
              "      <td>Customer</td>\n",
              "      <td>NaN</td>\n",
              "      <td>NaN</td>\n",
              "    </tr>\n",
              "    <tr>\n",
              "      <th>4</th>\n",
              "      <td>43603</td>\n",
              "      <td>2017-12-31 14:23:14.001</td>\n",
              "      <td>2018-01-01 02:29:57.571</td>\n",
              "      <td>239</td>\n",
              "      <td>Bancroft Way at Telegraph Ave</td>\n",
              "      <td>37.868813</td>\n",
              "      <td>-122.258764</td>\n",
              "      <td>247</td>\n",
              "      <td>Fulton St at Bancroft Way</td>\n",
              "      <td>37.867789</td>\n",
              "      <td>-122.265896</td>\n",
              "      <td>3167</td>\n",
              "      <td>Subscriber</td>\n",
              "      <td>1997.0</td>\n",
              "      <td>Female</td>\n",
              "    </tr>\n",
              "    <tr>\n",
              "      <th>...</th>\n",
              "      <td>...</td>\n",
              "      <td>...</td>\n",
              "      <td>...</td>\n",
              "      <td>...</td>\n",
              "      <td>...</td>\n",
              "      <td>...</td>\n",
              "      <td>...</td>\n",
              "      <td>...</td>\n",
              "      <td>...</td>\n",
              "      <td>...</td>\n",
              "      <td>...</td>\n",
              "      <td>...</td>\n",
              "      <td>...</td>\n",
              "      <td>...</td>\n",
              "      <td>...</td>\n",
              "    </tr>\n",
              "    <tr>\n",
              "      <th>519695</th>\n",
              "      <td>435</td>\n",
              "      <td>2017-06-28 10:00:54.528</td>\n",
              "      <td>2017-06-28 10:08:10.438</td>\n",
              "      <td>81</td>\n",
              "      <td>Berry St at 4th St</td>\n",
              "      <td>37.775880</td>\n",
              "      <td>-122.393170</td>\n",
              "      <td>45</td>\n",
              "      <td>5th St at Howard St</td>\n",
              "      <td>37.781752</td>\n",
              "      <td>-122.405127</td>\n",
              "      <td>400</td>\n",
              "      <td>Subscriber</td>\n",
              "      <td>1991.0</td>\n",
              "      <td>Male</td>\n",
              "    </tr>\n",
              "    <tr>\n",
              "      <th>519696</th>\n",
              "      <td>431</td>\n",
              "      <td>2017-06-28 09:56:39.631</td>\n",
              "      <td>2017-06-28 10:03:51.090</td>\n",
              "      <td>66</td>\n",
              "      <td>3rd St at Townsend St</td>\n",
              "      <td>37.778742</td>\n",
              "      <td>-122.392741</td>\n",
              "      <td>321</td>\n",
              "      <td>5th at Folsom</td>\n",
              "      <td>37.780146</td>\n",
              "      <td>-122.403071</td>\n",
              "      <td>316</td>\n",
              "      <td>Subscriber</td>\n",
              "      <td>1973.0</td>\n",
              "      <td>Male</td>\n",
              "    </tr>\n",
              "    <tr>\n",
              "      <th>519697</th>\n",
              "      <td>424</td>\n",
              "      <td>2017-06-28 09:47:36.347</td>\n",
              "      <td>2017-06-28 09:54:41.187</td>\n",
              "      <td>21</td>\n",
              "      <td>Montgomery St BART Station (Market St at 2nd St)</td>\n",
              "      <td>37.789625</td>\n",
              "      <td>-122.400811</td>\n",
              "      <td>48</td>\n",
              "      <td>2nd St at S Park St</td>\n",
              "      <td>37.782411</td>\n",
              "      <td>-122.392706</td>\n",
              "      <td>240</td>\n",
              "      <td>Subscriber</td>\n",
              "      <td>1985.0</td>\n",
              "      <td>Female</td>\n",
              "    </tr>\n",
              "    <tr>\n",
              "      <th>519698</th>\n",
              "      <td>366</td>\n",
              "      <td>2017-06-28 09:47:41.664</td>\n",
              "      <td>2017-06-28 09:53:47.715</td>\n",
              "      <td>58</td>\n",
              "      <td>Market St at 10th St</td>\n",
              "      <td>37.776619</td>\n",
              "      <td>-122.417385</td>\n",
              "      <td>59</td>\n",
              "      <td>S Van Ness Ave at Market St</td>\n",
              "      <td>37.774814</td>\n",
              "      <td>-122.418954</td>\n",
              "      <td>669</td>\n",
              "      <td>Subscriber</td>\n",
              "      <td>1981.0</td>\n",
              "      <td>Male</td>\n",
              "    </tr>\n",
              "    <tr>\n",
              "      <th>519699</th>\n",
              "      <td>188</td>\n",
              "      <td>2017-06-28 09:49:46.377</td>\n",
              "      <td>2017-06-28 09:52:55.338</td>\n",
              "      <td>25</td>\n",
              "      <td>Howard St at 2nd St</td>\n",
              "      <td>37.787522</td>\n",
              "      <td>-122.397405</td>\n",
              "      <td>48</td>\n",
              "      <td>2nd St at S Park St</td>\n",
              "      <td>37.782411</td>\n",
              "      <td>-122.392706</td>\n",
              "      <td>117</td>\n",
              "      <td>Subscriber</td>\n",
              "      <td>1984.0</td>\n",
              "      <td>Male</td>\n",
              "    </tr>\n",
              "  </tbody>\n",
              "</table>\n",
              "<p>519700 rows × 15 columns</p>\n",
              "</div>"
            ],
            "text/plain": [
              "        duration_sec              start_time  ... member_birth_year  member_gender\n",
              "0              80110 2017-12-31 16:57:39.654  ...            1987.0           Male\n",
              "1              78800 2017-12-31 15:56:34.842  ...            1965.0         Female\n",
              "2              45768 2017-12-31 22:45:48.411  ...               NaN            NaN\n",
              "3              62172 2017-12-31 17:31:10.636  ...               NaN            NaN\n",
              "4              43603 2017-12-31 14:23:14.001  ...            1997.0         Female\n",
              "...              ...                     ...  ...               ...            ...\n",
              "519695           435 2017-06-28 10:00:54.528  ...            1991.0           Male\n",
              "519696           431 2017-06-28 09:56:39.631  ...            1973.0           Male\n",
              "519697           424 2017-06-28 09:47:36.347  ...            1985.0         Female\n",
              "519698           366 2017-06-28 09:47:41.664  ...            1981.0           Male\n",
              "519699           188 2017-06-28 09:49:46.377  ...            1984.0           Male\n",
              "\n",
              "[519700 rows x 15 columns]"
            ]
          },
          "metadata": {
            "tags": []
          },
          "execution_count": 26
        }
      ]
    },
    {
      "cell_type": "code",
      "metadata": {
        "id": "eRvHLy_-HeeT",
        "colab_type": "code",
        "colab": {}
      },
      "source": [
        "for i in ['start' , 'end'] :\n",
        "  df[i+'_time'] = pd.to_datetime(df[i+'_time'])\n",
        "  df[i+'_day_name'] = df[i+'_time'].apply(lambda x: x.day_name())\n",
        "  df[i+'_month_name'] = df[i+'_time'].apply(lambda x: x.month_name())\n",
        "  df[i+'_hour'] = df[i+'_time'].apply(lambda x: x.hour)\n"
      ],
      "execution_count": 0,
      "outputs": []
    },
    {
      "cell_type": "code",
      "metadata": {
        "id": "Vvj4kgR_IK78",
        "colab_type": "code",
        "colab": {
          "base_uri": "https://localhost:8080/",
          "height": 334
        },
        "outputId": "19093209-92cd-4e45-edb1-6d354c702d99"
      },
      "source": [
        "df.head()"
      ],
      "execution_count": 30,
      "outputs": [
        {
          "output_type": "execute_result",
          "data": {
            "text/html": [
              "<div>\n",
              "<style scoped>\n",
              "    .dataframe tbody tr th:only-of-type {\n",
              "        vertical-align: middle;\n",
              "    }\n",
              "\n",
              "    .dataframe tbody tr th {\n",
              "        vertical-align: top;\n",
              "    }\n",
              "\n",
              "    .dataframe thead th {\n",
              "        text-align: right;\n",
              "    }\n",
              "</style>\n",
              "<table border=\"1\" class=\"dataframe\">\n",
              "  <thead>\n",
              "    <tr style=\"text-align: right;\">\n",
              "      <th></th>\n",
              "      <th>duration_sec</th>\n",
              "      <th>start_time</th>\n",
              "      <th>end_time</th>\n",
              "      <th>start_station_id</th>\n",
              "      <th>start_station_name</th>\n",
              "      <th>start_station_latitude</th>\n",
              "      <th>start_station_longitude</th>\n",
              "      <th>end_station_id</th>\n",
              "      <th>end_station_name</th>\n",
              "      <th>end_station_latitude</th>\n",
              "      <th>end_station_longitude</th>\n",
              "      <th>bike_id</th>\n",
              "      <th>user_type</th>\n",
              "      <th>member_birth_year</th>\n",
              "      <th>member_gender</th>\n",
              "      <th>start_day_name</th>\n",
              "      <th>end_day_name</th>\n",
              "      <th>start_month_name</th>\n",
              "      <th>start_hour</th>\n",
              "      <th>end_month_name</th>\n",
              "      <th>end_hour</th>\n",
              "    </tr>\n",
              "  </thead>\n",
              "  <tbody>\n",
              "    <tr>\n",
              "      <th>0</th>\n",
              "      <td>80110</td>\n",
              "      <td>2017-12-31 16:57:39.654</td>\n",
              "      <td>2018-01-01 15:12:50.245</td>\n",
              "      <td>74</td>\n",
              "      <td>Laguna St at Hayes St</td>\n",
              "      <td>37.776435</td>\n",
              "      <td>-122.426244</td>\n",
              "      <td>43</td>\n",
              "      <td>San Francisco Public Library (Grove St at Hyde...</td>\n",
              "      <td>37.778768</td>\n",
              "      <td>-122.415929</td>\n",
              "      <td>96</td>\n",
              "      <td>Customer</td>\n",
              "      <td>1987.0</td>\n",
              "      <td>Male</td>\n",
              "      <td>Sunday</td>\n",
              "      <td>Monday</td>\n",
              "      <td>December</td>\n",
              "      <td>16</td>\n",
              "      <td>January</td>\n",
              "      <td>15</td>\n",
              "    </tr>\n",
              "    <tr>\n",
              "      <th>1</th>\n",
              "      <td>78800</td>\n",
              "      <td>2017-12-31 15:56:34.842</td>\n",
              "      <td>2018-01-01 13:49:55.617</td>\n",
              "      <td>284</td>\n",
              "      <td>Yerba Buena Center for the Arts (Howard St at ...</td>\n",
              "      <td>37.784872</td>\n",
              "      <td>-122.400876</td>\n",
              "      <td>96</td>\n",
              "      <td>Dolores St at 15th St</td>\n",
              "      <td>37.766210</td>\n",
              "      <td>-122.426614</td>\n",
              "      <td>88</td>\n",
              "      <td>Customer</td>\n",
              "      <td>1965.0</td>\n",
              "      <td>Female</td>\n",
              "      <td>Sunday</td>\n",
              "      <td>Monday</td>\n",
              "      <td>December</td>\n",
              "      <td>15</td>\n",
              "      <td>January</td>\n",
              "      <td>13</td>\n",
              "    </tr>\n",
              "    <tr>\n",
              "      <th>2</th>\n",
              "      <td>45768</td>\n",
              "      <td>2017-12-31 22:45:48.411</td>\n",
              "      <td>2018-01-01 11:28:36.883</td>\n",
              "      <td>245</td>\n",
              "      <td>Downtown Berkeley BART</td>\n",
              "      <td>37.870348</td>\n",
              "      <td>-122.267764</td>\n",
              "      <td>245</td>\n",
              "      <td>Downtown Berkeley BART</td>\n",
              "      <td>37.870348</td>\n",
              "      <td>-122.267764</td>\n",
              "      <td>1094</td>\n",
              "      <td>Customer</td>\n",
              "      <td>NaN</td>\n",
              "      <td>NaN</td>\n",
              "      <td>Sunday</td>\n",
              "      <td>Monday</td>\n",
              "      <td>December</td>\n",
              "      <td>22</td>\n",
              "      <td>January</td>\n",
              "      <td>11</td>\n",
              "    </tr>\n",
              "    <tr>\n",
              "      <th>3</th>\n",
              "      <td>62172</td>\n",
              "      <td>2017-12-31 17:31:10.636</td>\n",
              "      <td>2018-01-01 10:47:23.531</td>\n",
              "      <td>60</td>\n",
              "      <td>8th St at Ringold St</td>\n",
              "      <td>37.774520</td>\n",
              "      <td>-122.409449</td>\n",
              "      <td>5</td>\n",
              "      <td>Powell St BART Station (Market St at 5th St)</td>\n",
              "      <td>37.783899</td>\n",
              "      <td>-122.408445</td>\n",
              "      <td>2831</td>\n",
              "      <td>Customer</td>\n",
              "      <td>NaN</td>\n",
              "      <td>NaN</td>\n",
              "      <td>Sunday</td>\n",
              "      <td>Monday</td>\n",
              "      <td>December</td>\n",
              "      <td>17</td>\n",
              "      <td>January</td>\n",
              "      <td>10</td>\n",
              "    </tr>\n",
              "    <tr>\n",
              "      <th>4</th>\n",
              "      <td>43603</td>\n",
              "      <td>2017-12-31 14:23:14.001</td>\n",
              "      <td>2018-01-01 02:29:57.571</td>\n",
              "      <td>239</td>\n",
              "      <td>Bancroft Way at Telegraph Ave</td>\n",
              "      <td>37.868813</td>\n",
              "      <td>-122.258764</td>\n",
              "      <td>247</td>\n",
              "      <td>Fulton St at Bancroft Way</td>\n",
              "      <td>37.867789</td>\n",
              "      <td>-122.265896</td>\n",
              "      <td>3167</td>\n",
              "      <td>Subscriber</td>\n",
              "      <td>1997.0</td>\n",
              "      <td>Female</td>\n",
              "      <td>Sunday</td>\n",
              "      <td>Monday</td>\n",
              "      <td>December</td>\n",
              "      <td>14</td>\n",
              "      <td>January</td>\n",
              "      <td>2</td>\n",
              "    </tr>\n",
              "  </tbody>\n",
              "</table>\n",
              "</div>"
            ],
            "text/plain": [
              "   duration_sec              start_time  ... end_month_name  end_hour\n",
              "0         80110 2017-12-31 16:57:39.654  ...        January        15\n",
              "1         78800 2017-12-31 15:56:34.842  ...        January        13\n",
              "2         45768 2017-12-31 22:45:48.411  ...        January        11\n",
              "3         62172 2017-12-31 17:31:10.636  ...        January        10\n",
              "4         43603 2017-12-31 14:23:14.001  ...        January         2\n",
              "\n",
              "[5 rows x 21 columns]"
            ]
          },
          "metadata": {
            "tags": []
          },
          "execution_count": 30
        }
      ]
    },
    {
      "cell_type": "code",
      "metadata": {
        "id": "tpUSwms7JCaN",
        "colab_type": "code",
        "colab": {}
      },
      "source": [
        ""
      ],
      "execution_count": 0,
      "outputs": []
    }
  ]
}